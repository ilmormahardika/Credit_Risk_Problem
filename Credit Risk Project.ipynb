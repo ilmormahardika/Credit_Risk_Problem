{
 "cells": [
  {
   "cell_type": "code",
   "execution_count": 66,
   "id": "5b449431",
   "metadata": {},
   "outputs": [],
   "source": [
    "import pandas as pd\n",
    "import numpy as np\n",
    "\n",
    "import matplotlib.pyplot as plt\n",
    "%matplotlib inline\n",
    "import seaborn as sns\n",
    "import plotly.express as ex\n",
    "import plotly.graph_objs as go\n",
    "import plotly.figure_factory as ff\n",
    "from plotly.subplots import make_subplots\n",
    "import plotly.offline as pyo\n",
    "from sklearn.preprocessing import LabelEncoder\n",
    "Labelencoder_X = LabelEncoder()s"
   ]
  },
  {
   "cell_type": "markdown",
   "id": "46ad130e",
   "metadata": {},
   "source": [
    "    person_age: Age of the borrower.\n",
    "    person_income: Annual income of the borrower.\n",
    "    person_home_ownership: Home ownership status of the borrower.\n",
    "    person_emp_length: Employment length of the borrower (in years).\n",
    "    loan_intent: The purpose of the loan.\n",
    "    loan_grade: The credit score assigned to the borrower.\n",
    "    loan_amnt: The amount of the loan.\n",
    "    loan_int_rate: The interest rate of the loan.\n",
    "    loan_percent_income: The percentage of income used to pay off the loan.\n",
    "    cb_person_default_on_file: Whether the borrower has a history of defaulting on loans.\n",
    "    cb_person_cred_hist_length: The length of the borrower's credit history."
   ]
  },
  {
   "cell_type": "code",
   "execution_count": 217,
   "id": "81a8b2ef",
   "metadata": {},
   "outputs": [],
   "source": [
    "df=pd.read_csv('credit_risk_dataset.csv')"
   ]
  },
  {
   "cell_type": "code",
   "execution_count": 218,
   "id": "ccaf5769",
   "metadata": {},
   "outputs": [
    {
     "data": {
      "text/html": [
       "<div>\n",
       "<style scoped>\n",
       "    .dataframe tbody tr th:only-of-type {\n",
       "        vertical-align: middle;\n",
       "    }\n",
       "\n",
       "    .dataframe tbody tr th {\n",
       "        vertical-align: top;\n",
       "    }\n",
       "\n",
       "    .dataframe thead th {\n",
       "        text-align: right;\n",
       "    }\n",
       "</style>\n",
       "<table border=\"1\" class=\"dataframe\">\n",
       "  <thead>\n",
       "    <tr style=\"text-align: right;\">\n",
       "      <th></th>\n",
       "      <th>person_age</th>\n",
       "      <th>person_income</th>\n",
       "      <th>person_home_ownership</th>\n",
       "      <th>person_emp_length</th>\n",
       "      <th>loan_intent</th>\n",
       "      <th>loan_grade</th>\n",
       "      <th>loan_amnt</th>\n",
       "      <th>loan_int_rate</th>\n",
       "      <th>loan_status</th>\n",
       "      <th>loan_percent_income</th>\n",
       "      <th>cb_person_default_on_file</th>\n",
       "      <th>cb_person_cred_hist_length</th>\n",
       "    </tr>\n",
       "  </thead>\n",
       "  <tbody>\n",
       "    <tr>\n",
       "      <th>0</th>\n",
       "      <td>22</td>\n",
       "      <td>59000</td>\n",
       "      <td>RENT</td>\n",
       "      <td>123.0</td>\n",
       "      <td>PERSONAL</td>\n",
       "      <td>D</td>\n",
       "      <td>35000</td>\n",
       "      <td>16.02</td>\n",
       "      <td>1</td>\n",
       "      <td>0.59</td>\n",
       "      <td>Y</td>\n",
       "      <td>3</td>\n",
       "    </tr>\n",
       "    <tr>\n",
       "      <th>1</th>\n",
       "      <td>21</td>\n",
       "      <td>9600</td>\n",
       "      <td>OWN</td>\n",
       "      <td>5.0</td>\n",
       "      <td>EDUCATION</td>\n",
       "      <td>B</td>\n",
       "      <td>1000</td>\n",
       "      <td>11.14</td>\n",
       "      <td>0</td>\n",
       "      <td>0.10</td>\n",
       "      <td>N</td>\n",
       "      <td>2</td>\n",
       "    </tr>\n",
       "    <tr>\n",
       "      <th>2</th>\n",
       "      <td>25</td>\n",
       "      <td>9600</td>\n",
       "      <td>MORTGAGE</td>\n",
       "      <td>1.0</td>\n",
       "      <td>MEDICAL</td>\n",
       "      <td>C</td>\n",
       "      <td>5500</td>\n",
       "      <td>12.87</td>\n",
       "      <td>1</td>\n",
       "      <td>0.57</td>\n",
       "      <td>N</td>\n",
       "      <td>3</td>\n",
       "    </tr>\n",
       "    <tr>\n",
       "      <th>3</th>\n",
       "      <td>23</td>\n",
       "      <td>65500</td>\n",
       "      <td>RENT</td>\n",
       "      <td>4.0</td>\n",
       "      <td>MEDICAL</td>\n",
       "      <td>C</td>\n",
       "      <td>35000</td>\n",
       "      <td>15.23</td>\n",
       "      <td>1</td>\n",
       "      <td>0.53</td>\n",
       "      <td>N</td>\n",
       "      <td>2</td>\n",
       "    </tr>\n",
       "    <tr>\n",
       "      <th>4</th>\n",
       "      <td>24</td>\n",
       "      <td>54400</td>\n",
       "      <td>RENT</td>\n",
       "      <td>8.0</td>\n",
       "      <td>MEDICAL</td>\n",
       "      <td>C</td>\n",
       "      <td>35000</td>\n",
       "      <td>14.27</td>\n",
       "      <td>1</td>\n",
       "      <td>0.55</td>\n",
       "      <td>Y</td>\n",
       "      <td>4</td>\n",
       "    </tr>\n",
       "  </tbody>\n",
       "</table>\n",
       "</div>"
      ],
      "text/plain": [
       "   person_age  person_income person_home_ownership  person_emp_length  \\\n",
       "0          22          59000                  RENT              123.0   \n",
       "1          21           9600                   OWN                5.0   \n",
       "2          25           9600              MORTGAGE                1.0   \n",
       "3          23          65500                  RENT                4.0   \n",
       "4          24          54400                  RENT                8.0   \n",
       "\n",
       "  loan_intent loan_grade  loan_amnt  loan_int_rate  loan_status  \\\n",
       "0    PERSONAL          D      35000          16.02            1   \n",
       "1   EDUCATION          B       1000          11.14            0   \n",
       "2     MEDICAL          C       5500          12.87            1   \n",
       "3     MEDICAL          C      35000          15.23            1   \n",
       "4     MEDICAL          C      35000          14.27            1   \n",
       "\n",
       "   loan_percent_income cb_person_default_on_file  cb_person_cred_hist_length  \n",
       "0                 0.59                         Y                           3  \n",
       "1                 0.10                         N                           2  \n",
       "2                 0.57                         N                           3  \n",
       "3                 0.53                         N                           2  \n",
       "4                 0.55                         Y                           4  "
      ]
     },
     "execution_count": 218,
     "metadata": {},
     "output_type": "execute_result"
    }
   ],
   "source": [
    "df.head()"
   ]
  },
  {
   "cell_type": "code",
   "execution_count": 219,
   "id": "8554154d",
   "metadata": {},
   "outputs": [
    {
     "data": {
      "text/html": [
       "<div>\n",
       "<style scoped>\n",
       "    .dataframe tbody tr th:only-of-type {\n",
       "        vertical-align: middle;\n",
       "    }\n",
       "\n",
       "    .dataframe tbody tr th {\n",
       "        vertical-align: top;\n",
       "    }\n",
       "\n",
       "    .dataframe thead th {\n",
       "        text-align: right;\n",
       "    }\n",
       "</style>\n",
       "<table border=\"1\" class=\"dataframe\">\n",
       "  <thead>\n",
       "    <tr style=\"text-align: right;\">\n",
       "      <th></th>\n",
       "      <th>person_age</th>\n",
       "      <th>person_income</th>\n",
       "      <th>person_emp_length</th>\n",
       "      <th>loan_amnt</th>\n",
       "      <th>loan_int_rate</th>\n",
       "      <th>loan_status</th>\n",
       "      <th>loan_percent_income</th>\n",
       "      <th>cb_person_cred_hist_length</th>\n",
       "    </tr>\n",
       "  </thead>\n",
       "  <tbody>\n",
       "    <tr>\n",
       "      <th>count</th>\n",
       "      <td>32581.000000</td>\n",
       "      <td>3.258100e+04</td>\n",
       "      <td>31686.000000</td>\n",
       "      <td>32581.000000</td>\n",
       "      <td>29465.000000</td>\n",
       "      <td>32581.000000</td>\n",
       "      <td>32581.000000</td>\n",
       "      <td>32581.000000</td>\n",
       "    </tr>\n",
       "    <tr>\n",
       "      <th>mean</th>\n",
       "      <td>27.734600</td>\n",
       "      <td>6.607485e+04</td>\n",
       "      <td>4.789686</td>\n",
       "      <td>9589.371106</td>\n",
       "      <td>11.011695</td>\n",
       "      <td>0.218164</td>\n",
       "      <td>0.170203</td>\n",
       "      <td>5.804211</td>\n",
       "    </tr>\n",
       "    <tr>\n",
       "      <th>std</th>\n",
       "      <td>6.348078</td>\n",
       "      <td>6.198312e+04</td>\n",
       "      <td>4.142630</td>\n",
       "      <td>6322.086646</td>\n",
       "      <td>3.240459</td>\n",
       "      <td>0.413006</td>\n",
       "      <td>0.106782</td>\n",
       "      <td>4.055001</td>\n",
       "    </tr>\n",
       "    <tr>\n",
       "      <th>min</th>\n",
       "      <td>20.000000</td>\n",
       "      <td>4.000000e+03</td>\n",
       "      <td>0.000000</td>\n",
       "      <td>500.000000</td>\n",
       "      <td>5.420000</td>\n",
       "      <td>0.000000</td>\n",
       "      <td>0.000000</td>\n",
       "      <td>2.000000</td>\n",
       "    </tr>\n",
       "    <tr>\n",
       "      <th>25%</th>\n",
       "      <td>23.000000</td>\n",
       "      <td>3.850000e+04</td>\n",
       "      <td>2.000000</td>\n",
       "      <td>5000.000000</td>\n",
       "      <td>7.900000</td>\n",
       "      <td>0.000000</td>\n",
       "      <td>0.090000</td>\n",
       "      <td>3.000000</td>\n",
       "    </tr>\n",
       "    <tr>\n",
       "      <th>50%</th>\n",
       "      <td>26.000000</td>\n",
       "      <td>5.500000e+04</td>\n",
       "      <td>4.000000</td>\n",
       "      <td>8000.000000</td>\n",
       "      <td>10.990000</td>\n",
       "      <td>0.000000</td>\n",
       "      <td>0.150000</td>\n",
       "      <td>4.000000</td>\n",
       "    </tr>\n",
       "    <tr>\n",
       "      <th>75%</th>\n",
       "      <td>30.000000</td>\n",
       "      <td>7.920000e+04</td>\n",
       "      <td>7.000000</td>\n",
       "      <td>12200.000000</td>\n",
       "      <td>13.470000</td>\n",
       "      <td>0.000000</td>\n",
       "      <td>0.230000</td>\n",
       "      <td>8.000000</td>\n",
       "    </tr>\n",
       "    <tr>\n",
       "      <th>max</th>\n",
       "      <td>144.000000</td>\n",
       "      <td>6.000000e+06</td>\n",
       "      <td>123.000000</td>\n",
       "      <td>35000.000000</td>\n",
       "      <td>23.220000</td>\n",
       "      <td>1.000000</td>\n",
       "      <td>0.830000</td>\n",
       "      <td>30.000000</td>\n",
       "    </tr>\n",
       "  </tbody>\n",
       "</table>\n",
       "</div>"
      ],
      "text/plain": [
       "         person_age  person_income  person_emp_length     loan_amnt  \\\n",
       "count  32581.000000   3.258100e+04       31686.000000  32581.000000   \n",
       "mean      27.734600   6.607485e+04           4.789686   9589.371106   \n",
       "std        6.348078   6.198312e+04           4.142630   6322.086646   \n",
       "min       20.000000   4.000000e+03           0.000000    500.000000   \n",
       "25%       23.000000   3.850000e+04           2.000000   5000.000000   \n",
       "50%       26.000000   5.500000e+04           4.000000   8000.000000   \n",
       "75%       30.000000   7.920000e+04           7.000000  12200.000000   \n",
       "max      144.000000   6.000000e+06         123.000000  35000.000000   \n",
       "\n",
       "       loan_int_rate   loan_status  loan_percent_income  \\\n",
       "count   29465.000000  32581.000000         32581.000000   \n",
       "mean       11.011695      0.218164             0.170203   \n",
       "std         3.240459      0.413006             0.106782   \n",
       "min         5.420000      0.000000             0.000000   \n",
       "25%         7.900000      0.000000             0.090000   \n",
       "50%        10.990000      0.000000             0.150000   \n",
       "75%        13.470000      0.000000             0.230000   \n",
       "max        23.220000      1.000000             0.830000   \n",
       "\n",
       "       cb_person_cred_hist_length  \n",
       "count                32581.000000  \n",
       "mean                     5.804211  \n",
       "std                      4.055001  \n",
       "min                      2.000000  \n",
       "25%                      3.000000  \n",
       "50%                      4.000000  \n",
       "75%                      8.000000  \n",
       "max                     30.000000  "
      ]
     },
     "execution_count": 219,
     "metadata": {},
     "output_type": "execute_result"
    }
   ],
   "source": [
    "df.describe()"
   ]
  },
  {
   "cell_type": "code",
   "execution_count": 220,
   "id": "47e29271",
   "metadata": {},
   "outputs": [
    {
     "name": "stdout",
     "output_type": "stream",
     "text": [
      "<class 'pandas.core.frame.DataFrame'>\n",
      "RangeIndex: 32581 entries, 0 to 32580\n",
      "Data columns (total 12 columns):\n",
      " #   Column                      Non-Null Count  Dtype  \n",
      "---  ------                      --------------  -----  \n",
      " 0   person_age                  32581 non-null  int64  \n",
      " 1   person_income               32581 non-null  int64  \n",
      " 2   person_home_ownership       32581 non-null  object \n",
      " 3   person_emp_length           31686 non-null  float64\n",
      " 4   loan_intent                 32581 non-null  object \n",
      " 5   loan_grade                  32581 non-null  object \n",
      " 6   loan_amnt                   32581 non-null  int64  \n",
      " 7   loan_int_rate               29465 non-null  float64\n",
      " 8   loan_status                 32581 non-null  int64  \n",
      " 9   loan_percent_income         32581 non-null  float64\n",
      " 10  cb_person_default_on_file   32581 non-null  object \n",
      " 11  cb_person_cred_hist_length  32581 non-null  int64  \n",
      "dtypes: float64(3), int64(5), object(4)\n",
      "memory usage: 3.0+ MB\n"
     ]
    }
   ],
   "source": [
    "df.info()"
   ]
  },
  {
   "cell_type": "code",
   "execution_count": 221,
   "id": "74dded33",
   "metadata": {},
   "outputs": [
    {
     "data": {
      "image/png": "[encoded data removed]",
      "text/plain": [
       "<Figure size 576x432 with 1 Axes>"
      ]
     },
     "metadata": {
      "needs_background": "light"
     },
     "output_type": "display_data"
    }
   ],
   "source": [
    "df['loan_status'].value_counts().plot(kind='barh', figsize=(8,6))\n",
    "plt.xlabel(\"Count\")\n",
    "plt.ylabel(\"Loan Status\")\n",
    "plt.title(\"Count of Loan Status per Category (1 = Default, 0 = Not Default)\", y=1.02);"
   ]
  },
  {
   "cell_type": "code",
   "execution_count": 222,
   "id": "871b84a2",
   "metadata": {},
   "outputs": [
    {
     "data": {
      "text/plain": [
       "0    78.183604\n",
       "1    21.816396\n",
       "Name: loan_status, dtype: float64"
      ]
     },
     "execution_count": 222,
     "metadata": {},
     "output_type": "execute_result"
    }
   ],
   "source": [
    "100*df['loan_status'].value_counts()/len(df['loan_status'])"
   ]
  },
  {
   "cell_type": "markdown",
   "id": "717ed966",
   "metadata": {},
   "source": [
    "From the chart above, the data is not balanced, Label 0 = 78% & Label 1 = 22%. Let's analyze other features."
   ]
  },
  {
   "cell_type": "code",
   "execution_count": 223,
   "id": "b8b6900d",
   "metadata": {},
   "outputs": [
    {
     "data": {
      "text/plain": [
       "person_age                       0\n",
       "person_income                    0\n",
       "person_home_ownership            0\n",
       "person_emp_length              895\n",
       "loan_intent                      0\n",
       "loan_grade                       0\n",
       "loan_amnt                        0\n",
       "loan_int_rate                 3116\n",
       "loan_status                      0\n",
       "loan_percent_income              0\n",
       "cb_person_default_on_file        0\n",
       "cb_person_cred_hist_length       0\n",
       "dtype: int64"
      ]
     },
     "execution_count": 223,
     "metadata": {},
     "output_type": "execute_result"
    }
   ],
   "source": [
    "df.isnull().sum()"
   ]
  },
  {
   "cell_type": "code",
   "execution_count": 224,
   "id": "ee53dd15",
   "metadata": {},
   "outputs": [
    {
     "data": {
      "text/html": [
       "<div>\n",
       "<style scoped>\n",
       "    .dataframe tbody tr th:only-of-type {\n",
       "        vertical-align: middle;\n",
       "    }\n",
       "\n",
       "    .dataframe tbody tr th {\n",
       "        vertical-align: top;\n",
       "    }\n",
       "\n",
       "    .dataframe thead th {\n",
       "        text-align: right;\n",
       "    }\n",
       "</style>\n",
       "<table border=\"1\" class=\"dataframe\">\n",
       "  <thead>\n",
       "    <tr style=\"text-align: right;\">\n",
       "      <th></th>\n",
       "      <th>person_age</th>\n",
       "      <th>person_income</th>\n",
       "      <th>person_home_ownership</th>\n",
       "      <th>person_emp_length</th>\n",
       "      <th>loan_intent</th>\n",
       "      <th>loan_grade</th>\n",
       "      <th>loan_amnt</th>\n",
       "      <th>loan_int_rate</th>\n",
       "      <th>loan_status</th>\n",
       "      <th>loan_percent_income</th>\n",
       "      <th>cb_person_default_on_file</th>\n",
       "      <th>cb_person_cred_hist_length</th>\n",
       "    </tr>\n",
       "  </thead>\n",
       "  <tbody>\n",
       "    <tr>\n",
       "      <th>105</th>\n",
       "      <td>22</td>\n",
       "      <td>12600</td>\n",
       "      <td>MORTGAGE</td>\n",
       "      <td>NaN</td>\n",
       "      <td>PERSONAL</td>\n",
       "      <td>A</td>\n",
       "      <td>2000</td>\n",
       "      <td>5.42</td>\n",
       "      <td>1</td>\n",
       "      <td>0.16</td>\n",
       "      <td>N</td>\n",
       "      <td>4</td>\n",
       "    </tr>\n",
       "    <tr>\n",
       "      <th>222</th>\n",
       "      <td>24</td>\n",
       "      <td>185000</td>\n",
       "      <td>MORTGAGE</td>\n",
       "      <td>NaN</td>\n",
       "      <td>EDUCATION</td>\n",
       "      <td>B</td>\n",
       "      <td>35000</td>\n",
       "      <td>12.42</td>\n",
       "      <td>0</td>\n",
       "      <td>0.19</td>\n",
       "      <td>N</td>\n",
       "      <td>2</td>\n",
       "    </tr>\n",
       "    <tr>\n",
       "      <th>379</th>\n",
       "      <td>24</td>\n",
       "      <td>16800</td>\n",
       "      <td>MORTGAGE</td>\n",
       "      <td>NaN</td>\n",
       "      <td>DEBTCONSOLIDATION</td>\n",
       "      <td>A</td>\n",
       "      <td>3900</td>\n",
       "      <td>NaN</td>\n",
       "      <td>1</td>\n",
       "      <td>0.23</td>\n",
       "      <td>N</td>\n",
       "      <td>3</td>\n",
       "    </tr>\n",
       "    <tr>\n",
       "      <th>407</th>\n",
       "      <td>25</td>\n",
       "      <td>52000</td>\n",
       "      <td>RENT</td>\n",
       "      <td>NaN</td>\n",
       "      <td>PERSONAL</td>\n",
       "      <td>B</td>\n",
       "      <td>24000</td>\n",
       "      <td>10.74</td>\n",
       "      <td>1</td>\n",
       "      <td>0.46</td>\n",
       "      <td>N</td>\n",
       "      <td>2</td>\n",
       "    </tr>\n",
       "    <tr>\n",
       "      <th>408</th>\n",
       "      <td>22</td>\n",
       "      <td>17352</td>\n",
       "      <td>MORTGAGE</td>\n",
       "      <td>NaN</td>\n",
       "      <td>EDUCATION</td>\n",
       "      <td>C</td>\n",
       "      <td>2250</td>\n",
       "      <td>15.27</td>\n",
       "      <td>0</td>\n",
       "      <td>0.13</td>\n",
       "      <td>Y</td>\n",
       "      <td>3</td>\n",
       "    </tr>\n",
       "    <tr>\n",
       "      <th>...</th>\n",
       "      <td>...</td>\n",
       "      <td>...</td>\n",
       "      <td>...</td>\n",
       "      <td>...</td>\n",
       "      <td>...</td>\n",
       "      <td>...</td>\n",
       "      <td>...</td>\n",
       "      <td>...</td>\n",
       "      <td>...</td>\n",
       "      <td>...</td>\n",
       "      <td>...</td>\n",
       "      <td>...</td>\n",
       "    </tr>\n",
       "    <tr>\n",
       "      <th>32285</th>\n",
       "      <td>38</td>\n",
       "      <td>12000</td>\n",
       "      <td>OWN</td>\n",
       "      <td>NaN</td>\n",
       "      <td>EDUCATION</td>\n",
       "      <td>A</td>\n",
       "      <td>4800</td>\n",
       "      <td>7.29</td>\n",
       "      <td>1</td>\n",
       "      <td>0.40</td>\n",
       "      <td>N</td>\n",
       "      <td>12</td>\n",
       "    </tr>\n",
       "    <tr>\n",
       "      <th>32328</th>\n",
       "      <td>51</td>\n",
       "      <td>18408</td>\n",
       "      <td>RENT</td>\n",
       "      <td>NaN</td>\n",
       "      <td>PERSONAL</td>\n",
       "      <td>C</td>\n",
       "      <td>1000</td>\n",
       "      <td>14.65</td>\n",
       "      <td>1</td>\n",
       "      <td>0.05</td>\n",
       "      <td>Y</td>\n",
       "      <td>20</td>\n",
       "    </tr>\n",
       "    <tr>\n",
       "      <th>32360</th>\n",
       "      <td>70</td>\n",
       "      <td>39996</td>\n",
       "      <td>RENT</td>\n",
       "      <td>NaN</td>\n",
       "      <td>MEDICAL</td>\n",
       "      <td>C</td>\n",
       "      <td>3600</td>\n",
       "      <td>15.23</td>\n",
       "      <td>0</td>\n",
       "      <td>0.09</td>\n",
       "      <td>Y</td>\n",
       "      <td>19</td>\n",
       "    </tr>\n",
       "    <tr>\n",
       "      <th>32453</th>\n",
       "      <td>56</td>\n",
       "      <td>32400</td>\n",
       "      <td>RENT</td>\n",
       "      <td>NaN</td>\n",
       "      <td>MEDICAL</td>\n",
       "      <td>A</td>\n",
       "      <td>8575</td>\n",
       "      <td>7.51</td>\n",
       "      <td>0</td>\n",
       "      <td>0.26</td>\n",
       "      <td>N</td>\n",
       "      <td>18</td>\n",
       "    </tr>\n",
       "    <tr>\n",
       "      <th>32471</th>\n",
       "      <td>53</td>\n",
       "      <td>54000</td>\n",
       "      <td>RENT</td>\n",
       "      <td>NaN</td>\n",
       "      <td>MEDICAL</td>\n",
       "      <td>D</td>\n",
       "      <td>10000</td>\n",
       "      <td>14.59</td>\n",
       "      <td>1</td>\n",
       "      <td>0.19</td>\n",
       "      <td>Y</td>\n",
       "      <td>27</td>\n",
       "    </tr>\n",
       "  </tbody>\n",
       "</table>\n",
       "<p>895 rows × 12 columns</p>\n",
       "</div>"
      ],
      "text/plain": [
       "       person_age  person_income person_home_ownership  person_emp_length  \\\n",
       "105            22          12600              MORTGAGE                NaN   \n",
       "222            24         185000              MORTGAGE                NaN   \n",
       "379            24          16800              MORTGAGE                NaN   \n",
       "407            25          52000                  RENT                NaN   \n",
       "408            22          17352              MORTGAGE                NaN   \n",
       "...           ...            ...                   ...                ...   \n",
       "32285          38          12000                   OWN                NaN   \n",
       "32328          51          18408                  RENT                NaN   \n",
       "32360          70          39996                  RENT                NaN   \n",
       "32453          56          32400                  RENT                NaN   \n",
       "32471          53          54000                  RENT                NaN   \n",
       "\n",
       "             loan_intent loan_grade  loan_amnt  loan_int_rate  loan_status  \\\n",
       "105             PERSONAL          A       2000           5.42            1   \n",
       "222            EDUCATION          B      35000          12.42            0   \n",
       "379    DEBTCONSOLIDATION          A       3900            NaN            1   \n",
       "407             PERSONAL          B      24000          10.74            1   \n",
       "408            EDUCATION          C       2250          15.27            0   \n",
       "...                  ...        ...        ...            ...          ...   \n",
       "32285          EDUCATION          A       4800           7.29            1   \n",
       "32328           PERSONAL          C       1000          14.65            1   \n",
       "32360            MEDICAL          C       3600          15.23            0   \n",
       "32453            MEDICAL          A       8575           7.51            0   \n",
       "32471            MEDICAL          D      10000          14.59            1   \n",
       "\n",
       "       loan_percent_income cb_person_default_on_file  \\\n",
       "105                   0.16                         N   \n",
       "222                   0.19                         N   \n",
       "379                   0.23                         N   \n",
       "407                   0.46                         N   \n",
       "408                   0.13                         Y   \n",
       "...                    ...                       ...   \n",
       "32285                 0.40                         N   \n",
       "32328                 0.05                         Y   \n",
       "32360                 0.09                         Y   \n",
       "32453                 0.26                         N   \n",
       "32471                 0.19                         Y   \n",
       "\n",
       "       cb_person_cred_hist_length  \n",
       "105                             4  \n",
       "222                             2  \n",
       "379                             3  \n",
       "407                             2  \n",
       "408                             3  \n",
       "...                           ...  \n",
       "32285                          12  \n",
       "32328                          20  \n",
       "32360                          19  \n",
       "32453                          18  \n",
       "32471                          27  \n",
       "\n",
       "[895 rows x 12 columns]"
      ]
     },
     "execution_count": 224,
     "metadata": {},
     "output_type": "execute_result"
    }
   ],
   "source": [
    "df[df['person_emp_length'].isnull()]"
   ]
  },
  {
   "cell_type": "code",
   "execution_count": 225,
   "id": "bf3b4169",
   "metadata": {},
   "outputs": [
    {
     "data": {
      "text/plain": [
       "<AxesSubplot:>"
      ]
     },
     "execution_count": 225,
     "metadata": {},
     "output_type": "execute_result"
    },
    {
     "data": {
      "image/png": "[encoded data removed]",
      "text/plain": [
       "<Figure size 432x288 with 1 Axes>"
      ]
     },
     "metadata": {
      "needs_background": "light"
     },
     "output_type": "display_data"
    }
   ],
   "source": [
    "df['person_emp_length'].hist(bins=20)"
   ]
  },
  {
   "cell_type": "code",
   "execution_count": 226,
   "id": "1106b57d",
   "metadata": {},
   "outputs": [
    {
     "data": {
      "text/plain": [
       "2.82459130215237"
      ]
     },
     "execution_count": 226,
     "metadata": {},
     "output_type": "execute_result"
    }
   ],
   "source": [
    "895/31686*100"
   ]
  },
  {
   "cell_type": "markdown",
   "id": "f415bcad",
   "metadata": {},
   "source": [
    "because \"person_emp_length\" has NaN values and there is no pattern from it, also the number of NaN values is relatively small, which is 2,8% from the total, so we drop it."
   ]
  },
  {
   "cell_type": "code",
   "execution_count": 227,
   "id": "cb943b15",
   "metadata": {},
   "outputs": [
    {
     "data": {
      "text/html": [
       "<div>\n",
       "<style scoped>\n",
       "    .dataframe tbody tr th:only-of-type {\n",
       "        vertical-align: middle;\n",
       "    }\n",
       "\n",
       "    .dataframe tbody tr th {\n",
       "        vertical-align: top;\n",
       "    }\n",
       "\n",
       "    .dataframe thead th {\n",
       "        text-align: right;\n",
       "    }\n",
       "</style>\n",
       "<table border=\"1\" class=\"dataframe\">\n",
       "  <thead>\n",
       "    <tr style=\"text-align: right;\">\n",
       "      <th></th>\n",
       "      <th>person_age</th>\n",
       "      <th>person_income</th>\n",
       "      <th>person_home_ownership</th>\n",
       "      <th>person_emp_length</th>\n",
       "      <th>loan_intent</th>\n",
       "      <th>loan_grade</th>\n",
       "      <th>loan_amnt</th>\n",
       "      <th>loan_int_rate</th>\n",
       "      <th>loan_status</th>\n",
       "      <th>loan_percent_income</th>\n",
       "      <th>cb_person_default_on_file</th>\n",
       "      <th>cb_person_cred_hist_length</th>\n",
       "    </tr>\n",
       "  </thead>\n",
       "  <tbody>\n",
       "    <tr>\n",
       "      <th>39</th>\n",
       "      <td>23</td>\n",
       "      <td>71500</td>\n",
       "      <td>RENT</td>\n",
       "      <td>3.0</td>\n",
       "      <td>DEBTCONSOLIDATION</td>\n",
       "      <td>D</td>\n",
       "      <td>30000</td>\n",
       "      <td>NaN</td>\n",
       "      <td>1</td>\n",
       "      <td>0.42</td>\n",
       "      <td>N</td>\n",
       "      <td>4</td>\n",
       "    </tr>\n",
       "    <tr>\n",
       "      <th>50</th>\n",
       "      <td>24</td>\n",
       "      <td>78000</td>\n",
       "      <td>RENT</td>\n",
       "      <td>4.0</td>\n",
       "      <td>DEBTCONSOLIDATION</td>\n",
       "      <td>D</td>\n",
       "      <td>30000</td>\n",
       "      <td>NaN</td>\n",
       "      <td>1</td>\n",
       "      <td>0.38</td>\n",
       "      <td>Y</td>\n",
       "      <td>4</td>\n",
       "    </tr>\n",
       "    <tr>\n",
       "      <th>57</th>\n",
       "      <td>23</td>\n",
       "      <td>277000</td>\n",
       "      <td>OWN</td>\n",
       "      <td>3.0</td>\n",
       "      <td>PERSONAL</td>\n",
       "      <td>A</td>\n",
       "      <td>35000</td>\n",
       "      <td>NaN</td>\n",
       "      <td>0</td>\n",
       "      <td>0.13</td>\n",
       "      <td>N</td>\n",
       "      <td>4</td>\n",
       "    </tr>\n",
       "    <tr>\n",
       "      <th>59</th>\n",
       "      <td>24</td>\n",
       "      <td>12000</td>\n",
       "      <td>OWN</td>\n",
       "      <td>2.0</td>\n",
       "      <td>VENTURE</td>\n",
       "      <td>E</td>\n",
       "      <td>1750</td>\n",
       "      <td>NaN</td>\n",
       "      <td>0</td>\n",
       "      <td>0.15</td>\n",
       "      <td>Y</td>\n",
       "      <td>3</td>\n",
       "    </tr>\n",
       "    <tr>\n",
       "      <th>62</th>\n",
       "      <td>26</td>\n",
       "      <td>263000</td>\n",
       "      <td>MORTGAGE</td>\n",
       "      <td>0.0</td>\n",
       "      <td>EDUCATION</td>\n",
       "      <td>B</td>\n",
       "      <td>10000</td>\n",
       "      <td>NaN</td>\n",
       "      <td>1</td>\n",
       "      <td>0.04</td>\n",
       "      <td>N</td>\n",
       "      <td>4</td>\n",
       "    </tr>\n",
       "    <tr>\n",
       "      <th>...</th>\n",
       "      <td>...</td>\n",
       "      <td>...</td>\n",
       "      <td>...</td>\n",
       "      <td>...</td>\n",
       "      <td>...</td>\n",
       "      <td>...</td>\n",
       "      <td>...</td>\n",
       "      <td>...</td>\n",
       "      <td>...</td>\n",
       "      <td>...</td>\n",
       "      <td>...</td>\n",
       "      <td>...</td>\n",
       "    </tr>\n",
       "    <tr>\n",
       "      <th>32547</th>\n",
       "      <td>53</td>\n",
       "      <td>4888</td>\n",
       "      <td>OWN</td>\n",
       "      <td>0.0</td>\n",
       "      <td>VENTURE</td>\n",
       "      <td>C</td>\n",
       "      <td>1400</td>\n",
       "      <td>NaN</td>\n",
       "      <td>1</td>\n",
       "      <td>0.29</td>\n",
       "      <td>Y</td>\n",
       "      <td>28</td>\n",
       "    </tr>\n",
       "    <tr>\n",
       "      <th>32552</th>\n",
       "      <td>65</td>\n",
       "      <td>45900</td>\n",
       "      <td>RENT</td>\n",
       "      <td>2.0</td>\n",
       "      <td>EDUCATION</td>\n",
       "      <td>C</td>\n",
       "      <td>10000</td>\n",
       "      <td>NaN</td>\n",
       "      <td>0</td>\n",
       "      <td>0.22</td>\n",
       "      <td>Y</td>\n",
       "      <td>19</td>\n",
       "    </tr>\n",
       "    <tr>\n",
       "      <th>32553</th>\n",
       "      <td>54</td>\n",
       "      <td>20000</td>\n",
       "      <td>RENT</td>\n",
       "      <td>2.0</td>\n",
       "      <td>MEDICAL</td>\n",
       "      <td>C</td>\n",
       "      <td>5000</td>\n",
       "      <td>NaN</td>\n",
       "      <td>0</td>\n",
       "      <td>0.25</td>\n",
       "      <td>N</td>\n",
       "      <td>28</td>\n",
       "    </tr>\n",
       "    <tr>\n",
       "      <th>32569</th>\n",
       "      <td>51</td>\n",
       "      <td>60000</td>\n",
       "      <td>MORTGAGE</td>\n",
       "      <td>1.0</td>\n",
       "      <td>PERSONAL</td>\n",
       "      <td>A</td>\n",
       "      <td>7500</td>\n",
       "      <td>NaN</td>\n",
       "      <td>0</td>\n",
       "      <td>0.13</td>\n",
       "      <td>N</td>\n",
       "      <td>23</td>\n",
       "    </tr>\n",
       "    <tr>\n",
       "      <th>32570</th>\n",
       "      <td>58</td>\n",
       "      <td>72000</td>\n",
       "      <td>RENT</td>\n",
       "      <td>5.0</td>\n",
       "      <td>HOMEIMPROVEMENT</td>\n",
       "      <td>B</td>\n",
       "      <td>4500</td>\n",
       "      <td>NaN</td>\n",
       "      <td>0</td>\n",
       "      <td>0.06</td>\n",
       "      <td>N</td>\n",
       "      <td>23</td>\n",
       "    </tr>\n",
       "  </tbody>\n",
       "</table>\n",
       "<p>3116 rows × 12 columns</p>\n",
       "</div>"
      ],
      "text/plain": [
       "       person_age  person_income person_home_ownership  person_emp_length  \\\n",
       "39             23          71500                  RENT                3.0   \n",
       "50             24          78000                  RENT                4.0   \n",
       "57             23         277000                   OWN                3.0   \n",
       "59             24          12000                   OWN                2.0   \n",
       "62             26         263000              MORTGAGE                0.0   \n",
       "...           ...            ...                   ...                ...   \n",
       "32547          53           4888                   OWN                0.0   \n",
       "32552          65          45900                  RENT                2.0   \n",
       "32553          54          20000                  RENT                2.0   \n",
       "32569          51          60000              MORTGAGE                1.0   \n",
       "32570          58          72000                  RENT                5.0   \n",
       "\n",
       "             loan_intent loan_grade  loan_amnt  loan_int_rate  loan_status  \\\n",
       "39     DEBTCONSOLIDATION          D      30000            NaN            1   \n",
       "50     DEBTCONSOLIDATION          D      30000            NaN            1   \n",
       "57              PERSONAL          A      35000            NaN            0   \n",
       "59               VENTURE          E       1750            NaN            0   \n",
       "62             EDUCATION          B      10000            NaN            1   \n",
       "...                  ...        ...        ...            ...          ...   \n",
       "32547            VENTURE          C       1400            NaN            1   \n",
       "32552          EDUCATION          C      10000            NaN            0   \n",
       "32553            MEDICAL          C       5000            NaN            0   \n",
       "32569           PERSONAL          A       7500            NaN            0   \n",
       "32570    HOMEIMPROVEMENT          B       4500            NaN            0   \n",
       "\n",
       "       loan_percent_income cb_person_default_on_file  \\\n",
       "39                    0.42                         N   \n",
       "50                    0.38                         Y   \n",
       "57                    0.13                         N   \n",
       "59                    0.15                         Y   \n",
       "62                    0.04                         N   \n",
       "...                    ...                       ...   \n",
       "32547                 0.29                         Y   \n",
       "32552                 0.22                         Y   \n",
       "32553                 0.25                         N   \n",
       "32569                 0.13                         N   \n",
       "32570                 0.06                         N   \n",
       "\n",
       "       cb_person_cred_hist_length  \n",
       "39                              4  \n",
       "50                              4  \n",
       "57                              4  \n",
       "59                              3  \n",
       "62                              4  \n",
       "...                           ...  \n",
       "32547                          28  \n",
       "32552                          19  \n",
       "32553                          28  \n",
       "32569                          23  \n",
       "32570                          23  \n",
       "\n",
       "[3116 rows x 12 columns]"
      ]
     },
     "execution_count": 227,
     "metadata": {},
     "output_type": "execute_result"
    }
   ],
   "source": [
    "df[df['loan_int_rate'].isnull()]"
   ]
  },
  {
   "cell_type": "code",
   "execution_count": 228,
   "id": "5ea94395",
   "metadata": {},
   "outputs": [
    {
     "data": {
      "text/plain": [
       "10.575258781605294"
      ]
     },
     "execution_count": 228,
     "metadata": {},
     "output_type": "execute_result"
    }
   ],
   "source": [
    "3116/29465*100"
   ]
  },
  {
   "cell_type": "code",
   "execution_count": 229,
   "id": "d3115550",
   "metadata": {},
   "outputs": [
    {
     "data": {
      "text/plain": [
       "<AxesSubplot:>"
      ]
     },
     "execution_count": 229,
     "metadata": {},
     "output_type": "execute_result"
    },
    {
     "data": {
      "image/png": "[encoded data removed]",
      "text/plain": [
       "<Figure size 432x288 with 1 Axes>"
      ]
     },
     "metadata": {
      "needs_background": "light"
     },
     "output_type": "display_data"
    }
   ],
   "source": [
    "df.boxplot(column='loan_int_rate')"
   ]
  },
  {
   "cell_type": "code",
   "execution_count": 230,
   "id": "73a78508",
   "metadata": {},
   "outputs": [
    {
     "data": {
      "text/plain": [
       "<AxesSubplot:>"
      ]
     },
     "execution_count": 230,
     "metadata": {},
     "output_type": "execute_result"
    },
    {
     "data": {
      "image/png": "[encoded data removed]",
      "text/plain": [
       "<Figure size 432x288 with 1 Axes>"
      ]
     },
     "metadata": {
      "needs_background": "light"
     },
     "output_type": "display_data"
    }
   ],
   "source": [
    "df['loan_int_rate'].hist(bins=20)"
   ]
  },
  {
   "cell_type": "markdown",
   "id": "61667dda",
   "metadata": {},
   "source": [
    "because 'loan_int_rate' has lots of NaN & the pattern is random, so it's more appropriate to fill with median "
   ]
  },
  {
   "cell_type": "code",
   "execution_count": 231,
   "id": "d0670fff",
   "metadata": {},
   "outputs": [],
   "source": [
    "df['loan_int_rate'].fillna(df['loan_int_rate'].median(),inplace=True)\n",
    "df.dropna(subset=['person_emp_length'], inplace=True)"
   ]
  },
  {
   "cell_type": "code",
   "execution_count": 232,
   "id": "394a708f",
   "metadata": {},
   "outputs": [
    {
     "data": {
      "text/plain": [
       "<AxesSubplot:>"
      ]
     },
     "execution_count": 232,
     "metadata": {},
     "output_type": "execute_result"
    },
    {
     "data": {
      "image/png": "[encoded data removed]",
      "text/plain": [
       "<Figure size 432x288 with 1 Axes>"
      ]
     },
     "metadata": {
      "needs_background": "light"
     },
     "output_type": "display_data"
    }
   ],
   "source": [
    "df['loan_int_rate'].hist(bins=20)"
   ]
  },
  {
   "cell_type": "code",
   "execution_count": 233,
   "id": "8333ebd8",
   "metadata": {},
   "outputs": [
    {
     "data": {
      "text/plain": [
       "<AxesSubplot:>"
      ]
     },
     "execution_count": 233,
     "metadata": {},
     "output_type": "execute_result"
    },
    {
     "data": {
      "image/png": "[encoded data removed]",
      "text/plain": [
       "<Figure size 432x288 with 1 Axes>"
      ]
     },
     "metadata": {
      "needs_background": "light"
     },
     "output_type": "display_data"
    }
   ],
   "source": [
    "df['person_emp_length'].hist(bins=20)"
   ]
  },
  {
   "cell_type": "code",
   "execution_count": 234,
   "id": "7bd20b96",
   "metadata": {},
   "outputs": [
    {
     "data": {
      "text/plain": [
       "person_age                    0\n",
       "person_income                 0\n",
       "person_home_ownership         0\n",
       "person_emp_length             0\n",
       "loan_intent                   0\n",
       "loan_grade                    0\n",
       "loan_amnt                     0\n",
       "loan_int_rate                 0\n",
       "loan_status                   0\n",
       "loan_percent_income           0\n",
       "cb_person_default_on_file     0\n",
       "cb_person_cred_hist_length    0\n",
       "dtype: int64"
      ]
     },
     "execution_count": 234,
     "metadata": {},
     "output_type": "execute_result"
    }
   ],
   "source": [
    "df.isnull().sum()"
   ]
  },
  {
   "cell_type": "code",
   "execution_count": 235,
   "id": "d0cd184e",
   "metadata": {},
   "outputs": [
    {
     "data": {
      "text/plain": [
       "<AxesSubplot:>"
      ]
     },
     "execution_count": 235,
     "metadata": {},
     "output_type": "execute_result"
    },
    {
     "data": {
      "image/png": "[encoded data removed]",
      "text/plain": [
       "<Figure size 432x288 with 1 Axes>"
      ]
     },
     "metadata": {
      "needs_background": "light"
     },
     "output_type": "display_data"
    }
   ],
   "source": [
    "df['person_emp_length_sqrt'] = np.sqrt(df['person_emp_length'])\n",
    "\n",
    "# visualize the transformed data\n",
    "df['person_emp_length_sqrt'].hist(bins=20)"
   ]
  },
  {
   "cell_type": "code",
   "execution_count": 236,
   "id": "c8c6e639",
   "metadata": {},
   "outputs": [],
   "source": [
    "df['loan_int_rate_log'] = np.log(np.array(df['loan_int_rate']))"
   ]
  },
  {
   "cell_type": "code",
   "execution_count": 237,
   "id": "0c816c9e",
   "metadata": {},
   "outputs": [
    {
     "data": {
      "text/plain": [
       "<AxesSubplot:>"
      ]
     },
     "execution_count": 237,
     "metadata": {},
     "output_type": "execute_result"
    },
    {
     "data": {
      "image/png": "[encoded data removed]",
      "text/plain": [
       "<Figure size 432x288 with 1 Axes>"
      ]
     },
     "metadata": {
      "needs_background": "light"
     },
     "output_type": "display_data"
    }
   ],
   "source": [
    "df['loan_int_rate_log'].hist(bins=20)"
   ]
  },
  {
   "cell_type": "code",
   "execution_count": 238,
   "id": "e898ae74",
   "metadata": {},
   "outputs": [
    {
     "data": {
      "text/plain": [
       "<AxesSubplot:>"
      ]
     },
     "execution_count": 238,
     "metadata": {},
     "output_type": "execute_result"
    },
    {
     "data": {
      "image/png": "[encoded data removed]",
      "text/plain": [
       "<Figure size 432x288 with 1 Axes>"
      ]
     },
     "metadata": {
      "needs_background": "light"
     },
     "output_type": "display_data"
    }
   ],
   "source": [
    "df.boxplot(column='loan_int_rate_log')"
   ]
  },
  {
   "cell_type": "code",
   "execution_count": 239,
   "id": "d1adba75",
   "metadata": {},
   "outputs": [],
   "source": [
    "from scipy.stats import boxcox\n",
    "df['loan_int_rate_boxcox'], lambda_boxcox = boxcox(df['loan_int_rate_log'])"
   ]
  },
  {
   "cell_type": "code",
   "execution_count": 240,
   "id": "bd27ecad",
   "metadata": {},
   "outputs": [
    {
     "data": {
      "text/plain": [
       "<AxesSubplot:xlabel='loan_int_rate_log', ylabel='Count'>"
      ]
     },
     "execution_count": 240,
     "metadata": {},
     "output_type": "execute_result"
    },
    {
     "data": {
      "image/png": "[encoded data removed]",
      "text/plain": [
       "<Figure size 432x288 with 1 Axes>"
      ]
     },
     "metadata": {
      "needs_background": "light"
     },
     "output_type": "display_data"
    }
   ],
   "source": [
    "sns.histplot(df['loan_int_rate_log'], kde=True)"
   ]
  },
  {
   "cell_type": "code",
   "execution_count": 241,
   "id": "3ad03471",
   "metadata": {},
   "outputs": [
    {
     "data": {
      "text/plain": [
       "<AxesSubplot:xlabel='person_emp_length_sqrt', ylabel='Count'>"
      ]
     },
     "execution_count": 241,
     "metadata": {},
     "output_type": "execute_result"
    },
    {
     "data": {
      "image/png": "[encoded data removed]",
      "text/plain": [
       "<Figure size 432x288 with 1 Axes>"
      ]
     },
     "metadata": {
      "needs_background": "light"
     },
     "output_type": "display_data"
    }
   ],
   "source": [
    "sns.histplot(df['person_emp_length_sqrt'], kde=True)"
   ]
  },
  {
   "cell_type": "code",
   "execution_count": null,
   "id": "66510a41",
   "metadata": {},
   "outputs": [],
   "source": []
  },
  {
   "cell_type": "code",
   "execution_count": null,
   "id": "e2ed4c57",
   "metadata": {},
   "outputs": [],
   "source": []
  },
  {
   "cell_type": "code",
   "execution_count": 242,
   "id": "c8e81bb3",
   "metadata": {},
   "outputs": [
    {
     "data": {
      "text/html": [
       "<div>\n",
       "<style scoped>\n",
       "    .dataframe tbody tr th:only-of-type {\n",
       "        vertical-align: middle;\n",
       "    }\n",
       "\n",
       "    .dataframe tbody tr th {\n",
       "        vertical-align: top;\n",
       "    }\n",
       "\n",
       "    .dataframe thead th {\n",
       "        text-align: right;\n",
       "    }\n",
       "</style>\n",
       "<table border=\"1\" class=\"dataframe\">\n",
       "  <thead>\n",
       "    <tr style=\"text-align: right;\">\n",
       "      <th></th>\n",
       "      <th>person_age</th>\n",
       "      <th>person_income</th>\n",
       "      <th>person_home_ownership</th>\n",
       "      <th>person_emp_length</th>\n",
       "      <th>loan_intent</th>\n",
       "      <th>loan_grade</th>\n",
       "      <th>loan_amnt</th>\n",
       "      <th>loan_int_rate</th>\n",
       "      <th>loan_status</th>\n",
       "      <th>loan_percent_income</th>\n",
       "      <th>cb_person_default_on_file</th>\n",
       "      <th>cb_person_cred_hist_length</th>\n",
       "      <th>person_emp_length_sqrt</th>\n",
       "      <th>loan_int_rate_log</th>\n",
       "      <th>loan_int_rate_boxcox</th>\n",
       "    </tr>\n",
       "  </thead>\n",
       "  <tbody>\n",
       "    <tr>\n",
       "      <th>0</th>\n",
       "      <td>22</td>\n",
       "      <td>59000</td>\n",
       "      <td>RENT</td>\n",
       "      <td>123.0</td>\n",
       "      <td>PERSONAL</td>\n",
       "      <td>D</td>\n",
       "      <td>35000</td>\n",
       "      <td>16.02</td>\n",
       "      <td>1</td>\n",
       "      <td>0.59</td>\n",
       "      <td>Y</td>\n",
       "      <td>3</td>\n",
       "      <td>11.090537</td>\n",
       "      <td>2.773838</td>\n",
       "      <td>3.917202</td>\n",
       "    </tr>\n",
       "    <tr>\n",
       "      <th>1</th>\n",
       "      <td>21</td>\n",
       "      <td>9600</td>\n",
       "      <td>OWN</td>\n",
       "      <td>5.0</td>\n",
       "      <td>EDUCATION</td>\n",
       "      <td>B</td>\n",
       "      <td>1000</td>\n",
       "      <td>11.14</td>\n",
       "      <td>0</td>\n",
       "      <td>0.10</td>\n",
       "      <td>N</td>\n",
       "      <td>2</td>\n",
       "      <td>2.236068</td>\n",
       "      <td>2.410542</td>\n",
       "      <td>2.743372</td>\n",
       "    </tr>\n",
       "    <tr>\n",
       "      <th>2</th>\n",
       "      <td>25</td>\n",
       "      <td>9600</td>\n",
       "      <td>MORTGAGE</td>\n",
       "      <td>1.0</td>\n",
       "      <td>MEDICAL</td>\n",
       "      <td>C</td>\n",
       "      <td>5500</td>\n",
       "      <td>12.87</td>\n",
       "      <td>1</td>\n",
       "      <td>0.57</td>\n",
       "      <td>N</td>\n",
       "      <td>3</td>\n",
       "      <td>1.000000</td>\n",
       "      <td>2.554899</td>\n",
       "      <td>3.185583</td>\n",
       "    </tr>\n",
       "    <tr>\n",
       "      <th>3</th>\n",
       "      <td>23</td>\n",
       "      <td>65500</td>\n",
       "      <td>RENT</td>\n",
       "      <td>4.0</td>\n",
       "      <td>MEDICAL</td>\n",
       "      <td>C</td>\n",
       "      <td>35000</td>\n",
       "      <td>15.23</td>\n",
       "      <td>1</td>\n",
       "      <td>0.53</td>\n",
       "      <td>N</td>\n",
       "      <td>2</td>\n",
       "      <td>2.000000</td>\n",
       "      <td>2.723267</td>\n",
       "      <td>3.741628</td>\n",
       "    </tr>\n",
       "    <tr>\n",
       "      <th>4</th>\n",
       "      <td>24</td>\n",
       "      <td>54400</td>\n",
       "      <td>RENT</td>\n",
       "      <td>8.0</td>\n",
       "      <td>MEDICAL</td>\n",
       "      <td>C</td>\n",
       "      <td>35000</td>\n",
       "      <td>14.27</td>\n",
       "      <td>1</td>\n",
       "      <td>0.55</td>\n",
       "      <td>Y</td>\n",
       "      <td>4</td>\n",
       "      <td>2.828427</td>\n",
       "      <td>2.658159</td>\n",
       "      <td>3.521425</td>\n",
       "    </tr>\n",
       "  </tbody>\n",
       "</table>\n",
       "</div>"
      ],
      "text/plain": [
       "   person_age  person_income person_home_ownership  person_emp_length  \\\n",
       "0          22          59000                  RENT              123.0   \n",
       "1          21           9600                   OWN                5.0   \n",
       "2          25           9600              MORTGAGE                1.0   \n",
       "3          23          65500                  RENT                4.0   \n",
       "4          24          54400                  RENT                8.0   \n",
       "\n",
       "  loan_intent loan_grade  loan_amnt  loan_int_rate  loan_status  \\\n",
       "0    PERSONAL          D      35000          16.02            1   \n",
       "1   EDUCATION          B       1000          11.14            0   \n",
       "2     MEDICAL          C       5500          12.87            1   \n",
       "3     MEDICAL          C      35000          15.23            1   \n",
       "4     MEDICAL          C      35000          14.27            1   \n",
       "\n",
       "   loan_percent_income cb_person_default_on_file  cb_person_cred_hist_length  \\\n",
       "0                 0.59                         Y                           3   \n",
       "1                 0.10                         N                           2   \n",
       "2                 0.57                         N                           3   \n",
       "3                 0.53                         N                           2   \n",
       "4                 0.55                         Y                           4   \n",
       "\n",
       "   person_emp_length_sqrt  loan_int_rate_log  loan_int_rate_boxcox  \n",
       "0               11.090537           2.773838              3.917202  \n",
       "1                2.236068           2.410542              2.743372  \n",
       "2                1.000000           2.554899              3.185583  \n",
       "3                2.000000           2.723267              3.741628  \n",
       "4                2.828427           2.658159              3.521425  "
      ]
     },
     "execution_count": 242,
     "metadata": {},
     "output_type": "execute_result"
    }
   ],
   "source": [
    "df.head()"
   ]
  },
  {
   "cell_type": "code",
   "execution_count": 243,
   "id": "4f0d6942",
   "metadata": {},
   "outputs": [],
   "source": [
    "df_new = df.drop(columns=['loan_int_rate_boxcox'])"
   ]
  },
  {
   "cell_type": "code",
   "execution_count": 244,
   "id": "85cf384c",
   "metadata": {},
   "outputs": [
    {
     "data": {
      "text/html": [
       "<div>\n",
       "<style scoped>\n",
       "    .dataframe tbody tr th:only-of-type {\n",
       "        vertical-align: middle;\n",
       "    }\n",
       "\n",
       "    .dataframe tbody tr th {\n",
       "        vertical-align: top;\n",
       "    }\n",
       "\n",
       "    .dataframe thead th {\n",
       "        text-align: right;\n",
       "    }\n",
       "</style>\n",
       "<table border=\"1\" class=\"dataframe\">\n",
       "  <thead>\n",
       "    <tr style=\"text-align: right;\">\n",
       "      <th></th>\n",
       "      <th>person_age</th>\n",
       "      <th>person_income</th>\n",
       "      <th>person_home_ownership</th>\n",
       "      <th>person_emp_length</th>\n",
       "      <th>loan_intent</th>\n",
       "      <th>loan_grade</th>\n",
       "      <th>loan_amnt</th>\n",
       "      <th>loan_int_rate</th>\n",
       "      <th>loan_status</th>\n",
       "      <th>loan_percent_income</th>\n",
       "      <th>cb_person_default_on_file</th>\n",
       "      <th>cb_person_cred_hist_length</th>\n",
       "      <th>person_emp_length_sqrt</th>\n",
       "      <th>loan_int_rate_log</th>\n",
       "    </tr>\n",
       "  </thead>\n",
       "  <tbody>\n",
       "    <tr>\n",
       "      <th>0</th>\n",
       "      <td>22</td>\n",
       "      <td>59000</td>\n",
       "      <td>RENT</td>\n",
       "      <td>123.0</td>\n",
       "      <td>PERSONAL</td>\n",
       "      <td>D</td>\n",
       "      <td>35000</td>\n",
       "      <td>16.02</td>\n",
       "      <td>1</td>\n",
       "      <td>0.59</td>\n",
       "      <td>Y</td>\n",
       "      <td>3</td>\n",
       "      <td>11.090537</td>\n",
       "      <td>2.773838</td>\n",
       "    </tr>\n",
       "    <tr>\n",
       "      <th>1</th>\n",
       "      <td>21</td>\n",
       "      <td>9600</td>\n",
       "      <td>OWN</td>\n",
       "      <td>5.0</td>\n",
       "      <td>EDUCATION</td>\n",
       "      <td>B</td>\n",
       "      <td>1000</td>\n",
       "      <td>11.14</td>\n",
       "      <td>0</td>\n",
       "      <td>0.10</td>\n",
       "      <td>N</td>\n",
       "      <td>2</td>\n",
       "      <td>2.236068</td>\n",
       "      <td>2.410542</td>\n",
       "    </tr>\n",
       "    <tr>\n",
       "      <th>2</th>\n",
       "      <td>25</td>\n",
       "      <td>9600</td>\n",
       "      <td>MORTGAGE</td>\n",
       "      <td>1.0</td>\n",
       "      <td>MEDICAL</td>\n",
       "      <td>C</td>\n",
       "      <td>5500</td>\n",
       "      <td>12.87</td>\n",
       "      <td>1</td>\n",
       "      <td>0.57</td>\n",
       "      <td>N</td>\n",
       "      <td>3</td>\n",
       "      <td>1.000000</td>\n",
       "      <td>2.554899</td>\n",
       "    </tr>\n",
       "    <tr>\n",
       "      <th>3</th>\n",
       "      <td>23</td>\n",
       "      <td>65500</td>\n",
       "      <td>RENT</td>\n",
       "      <td>4.0</td>\n",
       "      <td>MEDICAL</td>\n",
       "      <td>C</td>\n",
       "      <td>35000</td>\n",
       "      <td>15.23</td>\n",
       "      <td>1</td>\n",
       "      <td>0.53</td>\n",
       "      <td>N</td>\n",
       "      <td>2</td>\n",
       "      <td>2.000000</td>\n",
       "      <td>2.723267</td>\n",
       "    </tr>\n",
       "    <tr>\n",
       "      <th>4</th>\n",
       "      <td>24</td>\n",
       "      <td>54400</td>\n",
       "      <td>RENT</td>\n",
       "      <td>8.0</td>\n",
       "      <td>MEDICAL</td>\n",
       "      <td>C</td>\n",
       "      <td>35000</td>\n",
       "      <td>14.27</td>\n",
       "      <td>1</td>\n",
       "      <td>0.55</td>\n",
       "      <td>Y</td>\n",
       "      <td>4</td>\n",
       "      <td>2.828427</td>\n",
       "      <td>2.658159</td>\n",
       "    </tr>\n",
       "  </tbody>\n",
       "</table>\n",
       "</div>"
      ],
      "text/plain": [
       "   person_age  person_income person_home_ownership  person_emp_length  \\\n",
       "0          22          59000                  RENT              123.0   \n",
       "1          21           9600                   OWN                5.0   \n",
       "2          25           9600              MORTGAGE                1.0   \n",
       "3          23          65500                  RENT                4.0   \n",
       "4          24          54400                  RENT                8.0   \n",
       "\n",
       "  loan_intent loan_grade  loan_amnt  loan_int_rate  loan_status  \\\n",
       "0    PERSONAL          D      35000          16.02            1   \n",
       "1   EDUCATION          B       1000          11.14            0   \n",
       "2     MEDICAL          C       5500          12.87            1   \n",
       "3     MEDICAL          C      35000          15.23            1   \n",
       "4     MEDICAL          C      35000          14.27            1   \n",
       "\n",
       "   loan_percent_income cb_person_default_on_file  cb_person_cred_hist_length  \\\n",
       "0                 0.59                         Y                           3   \n",
       "1                 0.10                         N                           2   \n",
       "2                 0.57                         N                           3   \n",
       "3                 0.53                         N                           2   \n",
       "4                 0.55                         Y                           4   \n",
       "\n",
       "   person_emp_length_sqrt  loan_int_rate_log  \n",
       "0               11.090537           2.773838  \n",
       "1                2.236068           2.410542  \n",
       "2                1.000000           2.554899  \n",
       "3                2.000000           2.723267  \n",
       "4                2.828427           2.658159  "
      ]
     },
     "execution_count": 244,
     "metadata": {},
     "output_type": "execute_result"
    }
   ],
   "source": [
    "df_new.head()"
   ]
  },
  {
   "cell_type": "code",
   "execution_count": 245,
   "id": "05c6827b",
   "metadata": {},
   "outputs": [
    {
     "data": {
      "text/plain": [
       "person_age                    0\n",
       "person_income                 0\n",
       "person_home_ownership         0\n",
       "person_emp_length             0\n",
       "loan_intent                   0\n",
       "loan_grade                    0\n",
       "loan_amnt                     0\n",
       "loan_int_rate                 0\n",
       "loan_status                   0\n",
       "loan_percent_income           0\n",
       "cb_person_default_on_file     0\n",
       "cb_person_cred_hist_length    0\n",
       "person_emp_length_sqrt        0\n",
       "loan_int_rate_log             0\n",
       "dtype: int64"
      ]
     },
     "execution_count": 245,
     "metadata": {},
     "output_type": "execute_result"
    }
   ],
   "source": [
    "df_new.isnull().sum()"
   ]
  },
  {
   "cell_type": "code",
   "execution_count": 246,
   "id": "18b15d8a",
   "metadata": {},
   "outputs": [],
   "source": [
    "df_new.iloc[:,2] = Labelencoder_X.fit_transform(df_new.iloc[:,2])\n",
    "df_new.iloc[:,4] = Labelencoder_X.fit_transform(df_new.iloc[:,4])\n",
    "df_new.iloc[:,5] = Labelencoder_X.fit_transform(df_new.iloc[:,5])\n",
    "df_new.iloc[:,10] = Labelencoder_X.fit_transform(df_new.iloc[:,10])"
   ]
  },
  {
   "cell_type": "code",
   "execution_count": 247,
   "id": "e13d4c3b",
   "metadata": {},
   "outputs": [
    {
     "name": "stdout",
     "output_type": "stream",
     "text": [
      "[3 2 0 1]\n"
     ]
    }
   ],
   "source": [
    "unique_data = df_new['person_home_ownership'].unique()\n",
    "print(unique_data)"
   ]
  },
  {
   "cell_type": "code",
   "execution_count": 248,
   "id": "3f0d7c18",
   "metadata": {},
   "outputs": [
    {
     "data": {
      "image/png": "[encoded data removed]",
      "text/plain": [
       "<Figure size 432x288 with 1 Axes>"
      ]
     },
     "metadata": {
      "needs_background": "light"
     },
     "output_type": "display_data"
    }
   ],
   "source": [
    "# Buat pivot table untuk menghitung jumlah loan_status untuk setiap loan_intent\n",
    "table = pd.pivot_table(df_new, values='loan_status', index='person_home_ownership', aggfunc=len)\n",
    "\n",
    "# Buat bar plot\n",
    "table.plot(kind='bar', color='blue')\n",
    "\n",
    "# Tambahkan judul dan label pada sumbu x dan y\n",
    "plt.title('Jumlah Loan Status berdasarkan ')\n",
    "plt.xlabel('Person Home Ownership')\n",
    "plt.ylabel('Jumlah Loan Status')\n",
    "\n",
    "# Tampilkan plot\n",
    "plt.show()"
   ]
  },
  {
   "cell_type": "code",
   "execution_count": 249,
   "id": "719f9fa2",
   "metadata": {},
   "outputs": [
    {
     "name": "stdout",
     "output_type": "stream",
     "text": [
      "Korelasi Pearson: 0.209\n",
      "P-value: 0.000\n"
     ]
    }
   ],
   "source": [
    "import pandas as pd\n",
    "from scipy.stats import pearsonr\n",
    "\n",
    "\n",
    "# Encoding variabel kategorikal\n",
    "from sklearn.preprocessing import LabelEncoder\n",
    "le = LabelEncoder()\n",
    "df_new['person_home_ownership_encoded'] = le.fit_transform(df_new['person_home_ownership'])\n",
    "\n",
    "# Hitung korelasi Pearson antara variabel encoded dan target\n",
    "corr, p_value = pearsonr(df_new['person_home_ownership_encoded'], df_new['loan_status'])\n",
    "\n",
    "# Tampilkan hasil\n",
    "print(\"Korelasi Pearson: {:.3f}\".format(corr))\n",
    "print(\"P-value: {:.3f}\".format(p_value))"
   ]
  },
  {
   "cell_type": "code",
   "execution_count": 250,
   "id": "da06f65f",
   "metadata": {},
   "outputs": [
    {
     "data": {
      "text/html": [
       "<div>\n",
       "<style scoped>\n",
       "    .dataframe tbody tr th:only-of-type {\n",
       "        vertical-align: middle;\n",
       "    }\n",
       "\n",
       "    .dataframe tbody tr th {\n",
       "        vertical-align: top;\n",
       "    }\n",
       "\n",
       "    .dataframe thead th {\n",
       "        text-align: right;\n",
       "    }\n",
       "</style>\n",
       "<table border=\"1\" class=\"dataframe\">\n",
       "  <thead>\n",
       "    <tr style=\"text-align: right;\">\n",
       "      <th></th>\n",
       "      <th>person_age</th>\n",
       "      <th>person_income</th>\n",
       "      <th>person_home_ownership</th>\n",
       "      <th>person_emp_length</th>\n",
       "      <th>loan_intent</th>\n",
       "      <th>loan_grade</th>\n",
       "      <th>loan_amnt</th>\n",
       "      <th>loan_int_rate</th>\n",
       "      <th>loan_status</th>\n",
       "      <th>loan_percent_income</th>\n",
       "      <th>cb_person_default_on_file</th>\n",
       "      <th>cb_person_cred_hist_length</th>\n",
       "      <th>person_emp_length_sqrt</th>\n",
       "      <th>loan_int_rate_log</th>\n",
       "      <th>person_home_ownership_encoded</th>\n",
       "    </tr>\n",
       "  </thead>\n",
       "  <tbody>\n",
       "    <tr>\n",
       "      <th>person_age</th>\n",
       "      <td>1.000000</td>\n",
       "      <td>0.174755</td>\n",
       "      <td>-0.033704</td>\n",
       "      <td>0.163106</td>\n",
       "      <td>0.036171</td>\n",
       "      <td>0.013033</td>\n",
       "      <td>0.051180</td>\n",
       "      <td>0.010347</td>\n",
       "      <td>-0.023054</td>\n",
       "      <td>-0.041183</td>\n",
       "      <td>0.005173</td>\n",
       "      <td>0.858829</td>\n",
       "      <td>0.102069</td>\n",
       "      <td>0.009890</td>\n",
       "      <td>-0.033704</td>\n",
       "    </tr>\n",
       "    <tr>\n",
       "      <th>person_income</th>\n",
       "      <td>0.174755</td>\n",
       "      <td>1.000000</td>\n",
       "      <td>-0.202617</td>\n",
       "      <td>0.134268</td>\n",
       "      <td>0.002087</td>\n",
       "      <td>-0.002998</td>\n",
       "      <td>0.263639</td>\n",
       "      <td>-0.001322</td>\n",
       "      <td>-0.140411</td>\n",
       "      <td>-0.252967</td>\n",
       "      <td>-0.004456</td>\n",
       "      <td>0.119007</td>\n",
       "      <td>0.123981</td>\n",
       "      <td>-0.003052</td>\n",
       "      <td>-0.202617</td>\n",
       "    </tr>\n",
       "    <tr>\n",
       "      <th>person_home_ownership</th>\n",
       "      <td>-0.033704</td>\n",
       "      <td>-0.202617</td>\n",
       "      <td>1.000000</td>\n",
       "      <td>-0.231736</td>\n",
       "      <td>0.009230</td>\n",
       "      <td>0.117512</td>\n",
       "      <td>-0.131022</td>\n",
       "      <td>0.130421</td>\n",
       "      <td>0.208826</td>\n",
       "      <td>0.140288</td>\n",
       "      <td>0.060529</td>\n",
       "      <td>-0.026298</td>\n",
       "      <td>-0.235546</td>\n",
       "      <td>0.139508</td>\n",
       "      <td>1.000000</td>\n",
       "    </tr>\n",
       "    <tr>\n",
       "      <th>person_emp_length</th>\n",
       "      <td>0.163106</td>\n",
       "      <td>0.134268</td>\n",
       "      <td>-0.231736</td>\n",
       "      <td>1.000000</td>\n",
       "      <td>0.021749</td>\n",
       "      <td>-0.047276</td>\n",
       "      <td>0.113082</td>\n",
       "      <td>-0.053782</td>\n",
       "      <td>-0.082489</td>\n",
       "      <td>-0.054111</td>\n",
       "      <td>-0.027728</td>\n",
       "      <td>0.144699</td>\n",
       "      <td>0.925979</td>\n",
       "      <td>-0.061544</td>\n",
       "      <td>-0.231736</td>\n",
       "    </tr>\n",
       "    <tr>\n",
       "      <th>loan_intent</th>\n",
       "      <td>0.036171</td>\n",
       "      <td>0.002087</td>\n",
       "      <td>0.009230</td>\n",
       "      <td>0.021749</td>\n",
       "      <td>1.000000</td>\n",
       "      <td>-0.008963</td>\n",
       "      <td>-0.003670</td>\n",
       "      <td>-0.002419</td>\n",
       "      <td>-0.065484</td>\n",
       "      <td>0.001259</td>\n",
       "      <td>-0.005420</td>\n",
       "      <td>0.035754</td>\n",
       "      <td>0.016624</td>\n",
       "      <td>-0.001711</td>\n",
       "      <td>0.009230</td>\n",
       "    </tr>\n",
       "    <tr>\n",
       "      <th>loan_grade</th>\n",
       "      <td>0.013033</td>\n",
       "      <td>-0.002998</td>\n",
       "      <td>0.117512</td>\n",
       "      <td>-0.047276</td>\n",
       "      <td>-0.008963</td>\n",
       "      <td>1.000000</td>\n",
       "      <td>0.144643</td>\n",
       "      <td>0.889489</td>\n",
       "      <td>0.377022</td>\n",
       "      <td>0.125304</td>\n",
       "      <td>0.536610</td>\n",
       "      <td>0.013909</td>\n",
       "      <td>-0.049560</td>\n",
       "      <td>0.849687</td>\n",
       "      <td>0.117512</td>\n",
       "    </tr>\n",
       "    <tr>\n",
       "      <th>loan_amnt</th>\n",
       "      <td>0.051180</td>\n",
       "      <td>0.263639</td>\n",
       "      <td>-0.131022</td>\n",
       "      <td>0.113082</td>\n",
       "      <td>-0.003670</td>\n",
       "      <td>0.144643</td>\n",
       "      <td>1.000000</td>\n",
       "      <td>0.138553</td>\n",
       "      <td>0.112326</td>\n",
       "      <td>0.577200</td>\n",
       "      <td>0.038978</td>\n",
       "      <td>0.042398</td>\n",
       "      <td>0.113007</td>\n",
       "      <td>0.135520</td>\n",
       "      <td>-0.131022</td>\n",
       "    </tr>\n",
       "    <tr>\n",
       "      <th>loan_int_rate</th>\n",
       "      <td>0.010347</td>\n",
       "      <td>-0.001322</td>\n",
       "      <td>0.130421</td>\n",
       "      <td>-0.053782</td>\n",
       "      <td>-0.002419</td>\n",
       "      <td>0.889489</td>\n",
       "      <td>0.138553</td>\n",
       "      <td>1.000000</td>\n",
       "      <td>0.323290</td>\n",
       "      <td>0.117497</td>\n",
       "      <td>0.476167</td>\n",
       "      <td>0.014476</td>\n",
       "      <td>-0.054249</td>\n",
       "      <td>0.985986</td>\n",
       "      <td>0.130421</td>\n",
       "    </tr>\n",
       "    <tr>\n",
       "      <th>loan_status</th>\n",
       "      <td>-0.023054</td>\n",
       "      <td>-0.140411</td>\n",
       "      <td>0.208826</td>\n",
       "      <td>-0.082489</td>\n",
       "      <td>-0.065484</td>\n",
       "      <td>0.377022</td>\n",
       "      <td>0.112326</td>\n",
       "      <td>0.323290</td>\n",
       "      <td>1.000000</td>\n",
       "      <td>0.379944</td>\n",
       "      <td>0.181233</td>\n",
       "      <td>-0.016889</td>\n",
       "      <td>-0.094244</td>\n",
       "      <td>0.297893</td>\n",
       "      <td>0.208826</td>\n",
       "    </tr>\n",
       "    <tr>\n",
       "      <th>loan_percent_income</th>\n",
       "      <td>-0.041183</td>\n",
       "      <td>-0.252967</td>\n",
       "      <td>0.140288</td>\n",
       "      <td>-0.054111</td>\n",
       "      <td>0.001259</td>\n",
       "      <td>0.125304</td>\n",
       "      <td>0.577200</td>\n",
       "      <td>0.117497</td>\n",
       "      <td>0.379944</td>\n",
       "      <td>1.000000</td>\n",
       "      <td>0.036528</td>\n",
       "      <td>-0.030934</td>\n",
       "      <td>-0.050473</td>\n",
       "      <td>0.120388</td>\n",
       "      <td>0.140288</td>\n",
       "    </tr>\n",
       "    <tr>\n",
       "      <th>cb_person_default_on_file</th>\n",
       "      <td>0.005173</td>\n",
       "      <td>-0.004456</td>\n",
       "      <td>0.060529</td>\n",
       "      <td>-0.027728</td>\n",
       "      <td>-0.005420</td>\n",
       "      <td>0.536610</td>\n",
       "      <td>0.038978</td>\n",
       "      <td>0.476167</td>\n",
       "      <td>0.181233</td>\n",
       "      <td>0.036528</td>\n",
       "      <td>1.000000</td>\n",
       "      <td>0.003932</td>\n",
       "      <td>-0.030427</td>\n",
       "      <td>0.449576</td>\n",
       "      <td>0.060529</td>\n",
       "    </tr>\n",
       "    <tr>\n",
       "      <th>cb_person_cred_hist_length</th>\n",
       "      <td>0.858829</td>\n",
       "      <td>0.119007</td>\n",
       "      <td>-0.026298</td>\n",
       "      <td>0.144699</td>\n",
       "      <td>0.035754</td>\n",
       "      <td>0.013909</td>\n",
       "      <td>0.042398</td>\n",
       "      <td>0.014476</td>\n",
       "      <td>-0.016889</td>\n",
       "      <td>-0.030934</td>\n",
       "      <td>0.003932</td>\n",
       "      <td>1.000000</td>\n",
       "      <td>0.089055</td>\n",
       "      <td>0.014555</td>\n",
       "      <td>-0.026298</td>\n",
       "    </tr>\n",
       "    <tr>\n",
       "      <th>person_emp_length_sqrt</th>\n",
       "      <td>0.102069</td>\n",
       "      <td>0.123981</td>\n",
       "      <td>-0.235546</td>\n",
       "      <td>0.925979</td>\n",
       "      <td>0.016624</td>\n",
       "      <td>-0.049560</td>\n",
       "      <td>0.113007</td>\n",
       "      <td>-0.054249</td>\n",
       "      <td>-0.094244</td>\n",
       "      <td>-0.050473</td>\n",
       "      <td>-0.030427</td>\n",
       "      <td>0.089055</td>\n",
       "      <td>1.000000</td>\n",
       "      <td>-0.061736</td>\n",
       "      <td>-0.235546</td>\n",
       "    </tr>\n",
       "    <tr>\n",
       "      <th>loan_int_rate_log</th>\n",
       "      <td>0.009890</td>\n",
       "      <td>-0.003052</td>\n",
       "      <td>0.139508</td>\n",
       "      <td>-0.061544</td>\n",
       "      <td>-0.001711</td>\n",
       "      <td>0.849687</td>\n",
       "      <td>0.135520</td>\n",
       "      <td>0.985986</td>\n",
       "      <td>0.297893</td>\n",
       "      <td>0.120388</td>\n",
       "      <td>0.449576</td>\n",
       "      <td>0.014555</td>\n",
       "      <td>-0.061736</td>\n",
       "      <td>1.000000</td>\n",
       "      <td>0.139508</td>\n",
       "    </tr>\n",
       "    <tr>\n",
       "      <th>person_home_ownership_encoded</th>\n",
       "      <td>-0.033704</td>\n",
       "      <td>-0.202617</td>\n",
       "      <td>1.000000</td>\n",
       "      <td>-0.231736</td>\n",
       "      <td>0.009230</td>\n",
       "      <td>0.117512</td>\n",
       "      <td>-0.131022</td>\n",
       "      <td>0.130421</td>\n",
       "      <td>0.208826</td>\n",
       "      <td>0.140288</td>\n",
       "      <td>0.060529</td>\n",
       "      <td>-0.026298</td>\n",
       "      <td>-0.235546</td>\n",
       "      <td>0.139508</td>\n",
       "      <td>1.000000</td>\n",
       "    </tr>\n",
       "  </tbody>\n",
       "</table>\n",
       "</div>"
      ],
      "text/plain": [
       "                               person_age  person_income  \\\n",
       "person_age                       1.000000       0.174755   \n",
       "person_income                    0.174755       1.000000   \n",
       "person_home_ownership           -0.033704      -0.202617   \n",
       "person_emp_length                0.163106       0.134268   \n",
       "loan_intent                      0.036171       0.002087   \n",
       "loan_grade                       0.013033      -0.002998   \n",
       "loan_amnt                        0.051180       0.263639   \n",
       "loan_int_rate                    0.010347      -0.001322   \n",
       "loan_status                     -0.023054      -0.140411   \n",
       "loan_percent_income             -0.041183      -0.252967   \n",
       "cb_person_default_on_file        0.005173      -0.004456   \n",
       "cb_person_cred_hist_length       0.858829       0.119007   \n",
       "person_emp_length_sqrt           0.102069       0.123981   \n",
       "loan_int_rate_log                0.009890      -0.003052   \n",
       "person_home_ownership_encoded   -0.033704      -0.202617   \n",
       "\n",
       "                               person_home_ownership  person_emp_length  \\\n",
       "person_age                                 -0.033704           0.163106   \n",
       "person_income                              -0.202617           0.134268   \n",
       "person_home_ownership                       1.000000          -0.231736   \n",
       "person_emp_length                          -0.231736           1.000000   \n",
       "loan_intent                                 0.009230           0.021749   \n",
       "loan_grade                                  0.117512          -0.047276   \n",
       "loan_amnt                                  -0.131022           0.113082   \n",
       "loan_int_rate                               0.130421          -0.053782   \n",
       "loan_status                                 0.208826          -0.082489   \n",
       "loan_percent_income                         0.140288          -0.054111   \n",
       "cb_person_default_on_file                   0.060529          -0.027728   \n",
       "cb_person_cred_hist_length                 -0.026298           0.144699   \n",
       "person_emp_length_sqrt                     -0.235546           0.925979   \n",
       "loan_int_rate_log                           0.139508          -0.061544   \n",
       "person_home_ownership_encoded               1.000000          -0.231736   \n",
       "\n",
       "                               loan_intent  loan_grade  loan_amnt  \\\n",
       "person_age                        0.036171    0.013033   0.051180   \n",
       "person_income                     0.002087   -0.002998   0.263639   \n",
       "person_home_ownership             0.009230    0.117512  -0.131022   \n",
       "person_emp_length                 0.021749   -0.047276   0.113082   \n",
       "loan_intent                       1.000000   -0.008963  -0.003670   \n",
       "loan_grade                       -0.008963    1.000000   0.144643   \n",
       "loan_amnt                        -0.003670    0.144643   1.000000   \n",
       "loan_int_rate                    -0.002419    0.889489   0.138553   \n",
       "loan_status                      -0.065484    0.377022   0.112326   \n",
       "loan_percent_income               0.001259    0.125304   0.577200   \n",
       "cb_person_default_on_file        -0.005420    0.536610   0.038978   \n",
       "cb_person_cred_hist_length        0.035754    0.013909   0.042398   \n",
       "person_emp_length_sqrt            0.016624   -0.049560   0.113007   \n",
       "loan_int_rate_log                -0.001711    0.849687   0.135520   \n",
       "person_home_ownership_encoded     0.009230    0.117512  -0.131022   \n",
       "\n",
       "                               loan_int_rate  loan_status  \\\n",
       "person_age                          0.010347    -0.023054   \n",
       "person_income                      -0.001322    -0.140411   \n",
       "person_home_ownership               0.130421     0.208826   \n",
       "person_emp_length                  -0.053782    -0.082489   \n",
       "loan_intent                        -0.002419    -0.065484   \n",
       "loan_grade                          0.889489     0.377022   \n",
       "loan_amnt                           0.138553     0.112326   \n",
       "loan_int_rate                       1.000000     0.323290   \n",
       "loan_status                         0.323290     1.000000   \n",
       "loan_percent_income                 0.117497     0.379944   \n",
       "cb_person_default_on_file           0.476167     0.181233   \n",
       "cb_person_cred_hist_length          0.014476    -0.016889   \n",
       "person_emp_length_sqrt             -0.054249    -0.094244   \n",
       "loan_int_rate_log                   0.985986     0.297893   \n",
       "person_home_ownership_encoded       0.130421     0.208826   \n",
       "\n",
       "                               loan_percent_income  cb_person_default_on_file  \\\n",
       "person_age                               -0.041183                   0.005173   \n",
       "person_income                            -0.252967                  -0.004456   \n",
       "person_home_ownership                     0.140288                   0.060529   \n",
       "person_emp_length                        -0.054111                  -0.027728   \n",
       "loan_intent                               0.001259                  -0.005420   \n",
       "loan_grade                                0.125304                   0.536610   \n",
       "loan_amnt                                 0.577200                   0.038978   \n",
       "loan_int_rate                             0.117497                   0.476167   \n",
       "loan_status                               0.379944                   0.181233   \n",
       "loan_percent_income                       1.000000                   0.036528   \n",
       "cb_person_default_on_file                 0.036528                   1.000000   \n",
       "cb_person_cred_hist_length               -0.030934                   0.003932   \n",
       "person_emp_length_sqrt                   -0.050473                  -0.030427   \n",
       "loan_int_rate_log                         0.120388                   0.449576   \n",
       "person_home_ownership_encoded             0.140288                   0.060529   \n",
       "\n",
       "                               cb_person_cred_hist_length  \\\n",
       "person_age                                       0.858829   \n",
       "person_income                                    0.119007   \n",
       "person_home_ownership                           -0.026298   \n",
       "person_emp_length                                0.144699   \n",
       "loan_intent                                      0.035754   \n",
       "loan_grade                                       0.013909   \n",
       "loan_amnt                                        0.042398   \n",
       "loan_int_rate                                    0.014476   \n",
       "loan_status                                     -0.016889   \n",
       "loan_percent_income                             -0.030934   \n",
       "cb_person_default_on_file                        0.003932   \n",
       "cb_person_cred_hist_length                       1.000000   \n",
       "person_emp_length_sqrt                           0.089055   \n",
       "loan_int_rate_log                                0.014555   \n",
       "person_home_ownership_encoded                   -0.026298   \n",
       "\n",
       "                               person_emp_length_sqrt  loan_int_rate_log  \\\n",
       "person_age                                   0.102069           0.009890   \n",
       "person_income                                0.123981          -0.003052   \n",
       "person_home_ownership                       -0.235546           0.139508   \n",
       "person_emp_length                            0.925979          -0.061544   \n",
       "loan_intent                                  0.016624          -0.001711   \n",
       "loan_grade                                  -0.049560           0.849687   \n",
       "loan_amnt                                    0.113007           0.135520   \n",
       "loan_int_rate                               -0.054249           0.985986   \n",
       "loan_status                                 -0.094244           0.297893   \n",
       "loan_percent_income                         -0.050473           0.120388   \n",
       "cb_person_default_on_file                   -0.030427           0.449576   \n",
       "cb_person_cred_hist_length                   0.089055           0.014555   \n",
       "person_emp_length_sqrt                       1.000000          -0.061736   \n",
       "loan_int_rate_log                           -0.061736           1.000000   \n",
       "person_home_ownership_encoded               -0.235546           0.139508   \n",
       "\n",
       "                               person_home_ownership_encoded  \n",
       "person_age                                         -0.033704  \n",
       "person_income                                      -0.202617  \n",
       "person_home_ownership                               1.000000  \n",
       "person_emp_length                                  -0.231736  \n",
       "loan_intent                                         0.009230  \n",
       "loan_grade                                          0.117512  \n",
       "loan_amnt                                          -0.131022  \n",
       "loan_int_rate                                       0.130421  \n",
       "loan_status                                         0.208826  \n",
       "loan_percent_income                                 0.140288  \n",
       "cb_person_default_on_file                           0.060529  \n",
       "cb_person_cred_hist_length                         -0.026298  \n",
       "person_emp_length_sqrt                             -0.235546  \n",
       "loan_int_rate_log                                   0.139508  \n",
       "person_home_ownership_encoded                       1.000000  "
      ]
     },
     "execution_count": 250,
     "metadata": {},
     "output_type": "execute_result"
    }
   ],
   "source": [
    "df_new.corr()"
   ]
  },
  {
   "cell_type": "code",
   "execution_count": 251,
   "id": "49f07eb2",
   "metadata": {},
   "outputs": [
    {
     "name": "stdout",
     "output_type": "stream",
     "text": [
      "[4 1 3 5 2 0]\n"
     ]
    }
   ],
   "source": [
    "unique_data = df_new['loan_intent'].unique()\n",
    "print(unique_data)"
   ]
  },
  {
   "cell_type": "code",
   "execution_count": 252,
   "id": "10b257f5",
   "metadata": {},
   "outputs": [
    {
     "data": {
      "image/png": "[encoded data removed]",
      "text/plain": [
       "<Figure size 432x288 with 1 Axes>"
      ]
     },
     "metadata": {
      "needs_background": "light"
     },
     "output_type": "display_data"
    }
   ],
   "source": [
    "# Buat pivot table untuk menghitung jumlah loan_status untuk setiap loan_intent\n",
    "table = pd.pivot_table(df_new, values='loan_status', index='loan_intent', aggfunc=len)\n",
    "\n",
    "# Buat bar plot\n",
    "table.plot(kind='bar', color='blue')\n",
    "\n",
    "# Tambahkan judul dan label pada sumbu x dan y\n",
    "plt.title('Jumlah Loan Status berdasarkan Loan Intent')\n",
    "plt.xlabel('Loan Intent')\n",
    "plt.ylabel('Jumlah Loan Status')\n",
    "\n",
    "# Tampilkan plot\n",
    "plt.show()"
   ]
  },
  {
   "cell_type": "code",
   "execution_count": 253,
   "id": "a66648be",
   "metadata": {},
   "outputs": [
    {
     "name": "stdout",
     "output_type": "stream",
     "text": [
      "[3 1 2 0 4 5 6]\n"
     ]
    }
   ],
   "source": [
    "unique_data = df_new['loan_grade'].unique()\n",
    "print(unique_data)"
   ]
  },
  {
   "cell_type": "code",
   "execution_count": 254,
   "id": "686e881a",
   "metadata": {},
   "outputs": [
    {
     "data": {
      "text/plain": [
       "0    10371\n",
       "1    10186\n",
       "2     6321\n",
       "3     3556\n",
       "4      952\n",
       "5      236\n",
       "6       64\n",
       "Name: loan_grade, dtype: int64"
      ]
     },
     "execution_count": 254,
     "metadata": {},
     "output_type": "execute_result"
    }
   ],
   "source": [
    "df_new['loan_grade'].value_counts()"
   ]
  },
  {
   "cell_type": "code",
   "execution_count": 255,
   "id": "172516d8",
   "metadata": {},
   "outputs": [],
   "source": [
    "df_new['loan_grade'].replace([5, 6], 4, inplace=True)\n"
   ]
  },
  {
   "cell_type": "code",
   "execution_count": 256,
   "id": "b5480d97",
   "metadata": {},
   "outputs": [
    {
     "name": "stdout",
     "output_type": "stream",
     "text": [
      "[0.59 0.1  0.57 0.53 0.55 0.25 0.45 0.44 0.42 0.16 0.41 0.37 0.32 0.3\n",
      " 0.06 0.29 0.31 0.22 0.52 0.14 0.49 0.13 0.5  0.35 0.17 0.27 0.33 0.08\n",
      " 0.03 0.21 0.63 0.47 0.4  0.07 0.38 0.34 0.04 0.23 0.15 0.11 0.43 0.51\n",
      " 0.02 0.28 0.26 0.19 0.39 0.09 0.05 0.61 0.18 0.6  0.01 0.48 0.12 0.54\n",
      " 0.56 0.46 0.36 0.24 0.2  0.72 0.64 0.69 0.77 0.83 0.65 0.67 0.58 0.71\n",
      " 0.68 0.7  0.66 0.   0.76 0.62 0.78]\n"
     ]
    }
   ],
   "source": [
    "unique_data = df_new['loan_percent_income'].unique()\n",
    "print(unique_data)"
   ]
  },
  {
   "cell_type": "code",
   "execution_count": 257,
   "id": "a1d44b7c",
   "metadata": {},
   "outputs": [
    {
     "name": "stdout",
     "output_type": "stream",
     "text": [
      "[1 0]\n"
     ]
    }
   ],
   "source": [
    "unique_data = df_new['loan_status'].unique()\n",
    "print(unique_data)\n"
   ]
  },
  {
   "cell_type": "code",
   "execution_count": 258,
   "id": "e7de7fa1",
   "metadata": {},
   "outputs": [
    {
     "name": "stdout",
     "output_type": "stream",
     "text": [
      "[1 0]\n"
     ]
    }
   ],
   "source": [
    "unique_data = df_new['cb_person_default_on_file'].unique()\n",
    "print(unique_data)"
   ]
  },
  {
   "cell_type": "code",
   "execution_count": null,
   "id": "4b6964d6",
   "metadata": {},
   "outputs": [],
   "source": []
  },
  {
   "cell_type": "code",
   "execution_count": null,
   "id": "bcf90eb4",
   "metadata": {},
   "outputs": [],
   "source": []
  },
  {
   "cell_type": "code",
   "execution_count": 259,
   "id": "2c869292",
   "metadata": {},
   "outputs": [],
   "source": [
    "X = df_new.iloc[1:]"
   ]
  },
  {
   "cell_type": "code",
   "execution_count": 260,
   "id": "e29f2952",
   "metadata": {},
   "outputs": [],
   "source": [
    "X.drop(columns='loan_status', inplace=True)"
   ]
  },
  {
   "cell_type": "code",
   "execution_count": 261,
   "id": "65e71992",
   "metadata": {},
   "outputs": [
    {
     "data": {
      "text/plain": [
       "Index(['person_age', 'person_income', 'person_home_ownership',\n",
       "       'person_emp_length', 'loan_intent', 'loan_grade', 'loan_amnt',\n",
       "       'loan_int_rate', 'loan_percent_income', 'cb_person_default_on_file',\n",
       "       'cb_person_cred_hist_length', 'person_emp_length_sqrt',\n",
       "       'loan_int_rate_log', 'person_home_ownership_encoded'],\n",
       "      dtype='object')"
      ]
     },
     "execution_count": 261,
     "metadata": {},
     "output_type": "execute_result"
    }
   ],
   "source": [
    "X.columns"
   ]
  },
  {
   "cell_type": "code",
   "execution_count": 262,
   "id": "911ca402",
   "metadata": {},
   "outputs": [
    {
     "name": "stdout",
     "output_type": "stream",
     "text": [
      "<class 'pandas.core.frame.DataFrame'>\n",
      "Int64Index: 31685 entries, 1 to 32580\n",
      "Data columns (total 14 columns):\n",
      " #   Column                         Non-Null Count  Dtype  \n",
      "---  ------                         --------------  -----  \n",
      " 0   person_age                     31685 non-null  int64  \n",
      " 1   person_income                  31685 non-null  int64  \n",
      " 2   person_home_ownership          31685 non-null  int32  \n",
      " 3   person_emp_length              31685 non-null  float64\n",
      " 4   loan_intent                    31685 non-null  int32  \n",
      " 5   loan_grade                     31685 non-null  int32  \n",
      " 6   loan_amnt                      31685 non-null  int64  \n",
      " 7   loan_int_rate                  31685 non-null  float64\n",
      " 8   loan_percent_income            31685 non-null  float64\n",
      " 9   cb_person_default_on_file      31685 non-null  int32  \n",
      " 10  cb_person_cred_hist_length     31685 non-null  int64  \n",
      " 11  person_emp_length_sqrt         31685 non-null  float64\n",
      " 12  loan_int_rate_log              31685 non-null  float64\n",
      " 13  person_home_ownership_encoded  31685 non-null  int64  \n",
      "dtypes: float64(5), int32(4), int64(5)\n",
      "memory usage: 3.1 MB\n"
     ]
    }
   ],
   "source": [
    "X.info()"
   ]
  },
  {
   "cell_type": "code",
   "execution_count": 263,
   "id": "464ce2e6",
   "metadata": {},
   "outputs": [],
   "source": [
    "X.drop(columns=['person_age'], inplace=True)"
   ]
  },
  {
   "cell_type": "code",
   "execution_count": 264,
   "id": "44e31fa9",
   "metadata": {},
   "outputs": [
    {
     "data": {
      "text/plain": [
       "Index(['person_income', 'person_home_ownership', 'person_emp_length',\n",
       "       'loan_intent', 'loan_grade', 'loan_amnt', 'loan_int_rate',\n",
       "       'loan_percent_income', 'cb_person_default_on_file',\n",
       "       'cb_person_cred_hist_length', 'person_emp_length_sqrt',\n",
       "       'loan_int_rate_log', 'person_home_ownership_encoded'],\n",
       "      dtype='object')"
      ]
     },
     "execution_count": 264,
     "metadata": {},
     "output_type": "execute_result"
    }
   ],
   "source": [
    "X.columns"
   ]
  },
  {
   "cell_type": "code",
   "execution_count": 265,
   "id": "4d9e1893",
   "metadata": {},
   "outputs": [],
   "source": [
    "X.drop(columns='person_home_ownership', inplace=True)\n",
    "X.drop(columns='person_emp_length', inplace=True)\n",
    "X.drop(columns='loan_int_rate', inplace=True)"
   ]
  },
  {
   "cell_type": "code",
   "execution_count": 266,
   "id": "a7287df1",
   "metadata": {},
   "outputs": [
    {
     "data": {
      "text/plain": [
       "Index(['person_income', 'loan_intent', 'loan_grade', 'loan_amnt',\n",
       "       'loan_percent_income', 'cb_person_default_on_file',\n",
       "       'cb_person_cred_hist_length', 'person_emp_length_sqrt',\n",
       "       'loan_int_rate_log', 'person_home_ownership_encoded'],\n",
       "      dtype='object')"
      ]
     },
     "execution_count": 266,
     "metadata": {},
     "output_type": "execute_result"
    }
   ],
   "source": [
    "X.columns"
   ]
  },
  {
   "cell_type": "code",
   "execution_count": 267,
   "id": "d6f3cd27",
   "metadata": {},
   "outputs": [],
   "source": [
    "y = df_new.iloc[:,8]"
   ]
  },
  {
   "cell_type": "code",
   "execution_count": 268,
   "id": "e74537e3",
   "metadata": {},
   "outputs": [
    {
     "data": {
      "text/html": [
       "<div>\n",
       "<style scoped>\n",
       "    .dataframe tbody tr th:only-of-type {\n",
       "        vertical-align: middle;\n",
       "    }\n",
       "\n",
       "    .dataframe tbody tr th {\n",
       "        vertical-align: top;\n",
       "    }\n",
       "\n",
       "    .dataframe thead th {\n",
       "        text-align: right;\n",
       "    }\n",
       "</style>\n",
       "<table border=\"1\" class=\"dataframe\">\n",
       "  <thead>\n",
       "    <tr style=\"text-align: right;\">\n",
       "      <th></th>\n",
       "      <th>person_income</th>\n",
       "      <th>loan_intent</th>\n",
       "      <th>loan_grade</th>\n",
       "      <th>loan_amnt</th>\n",
       "      <th>loan_percent_income</th>\n",
       "      <th>cb_person_default_on_file</th>\n",
       "      <th>cb_person_cred_hist_length</th>\n",
       "      <th>person_emp_length_sqrt</th>\n",
       "      <th>loan_int_rate_log</th>\n",
       "      <th>person_home_ownership_encoded</th>\n",
       "    </tr>\n",
       "  </thead>\n",
       "  <tbody>\n",
       "    <tr>\n",
       "      <th>1</th>\n",
       "      <td>9600</td>\n",
       "      <td>1</td>\n",
       "      <td>1</td>\n",
       "      <td>1000</td>\n",
       "      <td>0.10</td>\n",
       "      <td>0</td>\n",
       "      <td>2</td>\n",
       "      <td>2.236068</td>\n",
       "      <td>2.410542</td>\n",
       "      <td>2</td>\n",
       "    </tr>\n",
       "    <tr>\n",
       "      <th>2</th>\n",
       "      <td>9600</td>\n",
       "      <td>3</td>\n",
       "      <td>2</td>\n",
       "      <td>5500</td>\n",
       "      <td>0.57</td>\n",
       "      <td>0</td>\n",
       "      <td>3</td>\n",
       "      <td>1.000000</td>\n",
       "      <td>2.554899</td>\n",
       "      <td>0</td>\n",
       "    </tr>\n",
       "    <tr>\n",
       "      <th>3</th>\n",
       "      <td>65500</td>\n",
       "      <td>3</td>\n",
       "      <td>2</td>\n",
       "      <td>35000</td>\n",
       "      <td>0.53</td>\n",
       "      <td>0</td>\n",
       "      <td>2</td>\n",
       "      <td>2.000000</td>\n",
       "      <td>2.723267</td>\n",
       "      <td>3</td>\n",
       "    </tr>\n",
       "    <tr>\n",
       "      <th>4</th>\n",
       "      <td>54400</td>\n",
       "      <td>3</td>\n",
       "      <td>2</td>\n",
       "      <td>35000</td>\n",
       "      <td>0.55</td>\n",
       "      <td>1</td>\n",
       "      <td>4</td>\n",
       "      <td>2.828427</td>\n",
       "      <td>2.658159</td>\n",
       "      <td>3</td>\n",
       "    </tr>\n",
       "    <tr>\n",
       "      <th>5</th>\n",
       "      <td>9900</td>\n",
       "      <td>5</td>\n",
       "      <td>0</td>\n",
       "      <td>2500</td>\n",
       "      <td>0.25</td>\n",
       "      <td>0</td>\n",
       "      <td>2</td>\n",
       "      <td>1.414214</td>\n",
       "      <td>1.965713</td>\n",
       "      <td>2</td>\n",
       "    </tr>\n",
       "    <tr>\n",
       "      <th>...</th>\n",
       "      <td>...</td>\n",
       "      <td>...</td>\n",
       "      <td>...</td>\n",
       "      <td>...</td>\n",
       "      <td>...</td>\n",
       "      <td>...</td>\n",
       "      <td>...</td>\n",
       "      <td>...</td>\n",
       "      <td>...</td>\n",
       "      <td>...</td>\n",
       "    </tr>\n",
       "    <tr>\n",
       "      <th>32576</th>\n",
       "      <td>53000</td>\n",
       "      <td>4</td>\n",
       "      <td>2</td>\n",
       "      <td>5800</td>\n",
       "      <td>0.11</td>\n",
       "      <td>0</td>\n",
       "      <td>30</td>\n",
       "      <td>1.000000</td>\n",
       "      <td>2.577182</td>\n",
       "      <td>0</td>\n",
       "    </tr>\n",
       "    <tr>\n",
       "      <th>32577</th>\n",
       "      <td>120000</td>\n",
       "      <td>4</td>\n",
       "      <td>0</td>\n",
       "      <td>17625</td>\n",
       "      <td>0.15</td>\n",
       "      <td>0</td>\n",
       "      <td>19</td>\n",
       "      <td>2.000000</td>\n",
       "      <td>2.013569</td>\n",
       "      <td>0</td>\n",
       "    </tr>\n",
       "    <tr>\n",
       "      <th>32578</th>\n",
       "      <td>76000</td>\n",
       "      <td>2</td>\n",
       "      <td>1</td>\n",
       "      <td>35000</td>\n",
       "      <td>0.46</td>\n",
       "      <td>0</td>\n",
       "      <td>28</td>\n",
       "      <td>1.732051</td>\n",
       "      <td>2.396986</td>\n",
       "      <td>3</td>\n",
       "    </tr>\n",
       "    <tr>\n",
       "      <th>32579</th>\n",
       "      <td>150000</td>\n",
       "      <td>4</td>\n",
       "      <td>1</td>\n",
       "      <td>15000</td>\n",
       "      <td>0.10</td>\n",
       "      <td>0</td>\n",
       "      <td>26</td>\n",
       "      <td>2.236068</td>\n",
       "      <td>2.440606</td>\n",
       "      <td>0</td>\n",
       "    </tr>\n",
       "    <tr>\n",
       "      <th>32580</th>\n",
       "      <td>42000</td>\n",
       "      <td>3</td>\n",
       "      <td>1</td>\n",
       "      <td>6475</td>\n",
       "      <td>0.15</td>\n",
       "      <td>0</td>\n",
       "      <td>30</td>\n",
       "      <td>1.414214</td>\n",
       "      <td>2.301585</td>\n",
       "      <td>3</td>\n",
       "    </tr>\n",
       "  </tbody>\n",
       "</table>\n",
       "<p>31685 rows × 10 columns</p>\n",
       "</div>"
      ],
      "text/plain": [
       "       person_income  loan_intent  loan_grade  loan_amnt  loan_percent_income  \\\n",
       "1               9600            1           1       1000                 0.10   \n",
       "2               9600            3           2       5500                 0.57   \n",
       "3              65500            3           2      35000                 0.53   \n",
       "4              54400            3           2      35000                 0.55   \n",
       "5               9900            5           0       2500                 0.25   \n",
       "...              ...          ...         ...        ...                  ...   \n",
       "32576          53000            4           2       5800                 0.11   \n",
       "32577         120000            4           0      17625                 0.15   \n",
       "32578          76000            2           1      35000                 0.46   \n",
       "32579         150000            4           1      15000                 0.10   \n",
       "32580          42000            3           1       6475                 0.15   \n",
       "\n",
       "       cb_person_default_on_file  cb_person_cred_hist_length  \\\n",
       "1                              0                           2   \n",
       "2                              0                           3   \n",
       "3                              0                           2   \n",
       "4                              1                           4   \n",
       "5                              0                           2   \n",
       "...                          ...                         ...   \n",
       "32576                          0                          30   \n",
       "32577                          0                          19   \n",
       "32578                          0                          28   \n",
       "32579                          0                          26   \n",
       "32580                          0                          30   \n",
       "\n",
       "       person_emp_length_sqrt  loan_int_rate_log  \\\n",
       "1                    2.236068           2.410542   \n",
       "2                    1.000000           2.554899   \n",
       "3                    2.000000           2.723267   \n",
       "4                    2.828427           2.658159   \n",
       "5                    1.414214           1.965713   \n",
       "...                       ...                ...   \n",
       "32576                1.000000           2.577182   \n",
       "32577                2.000000           2.013569   \n",
       "32578                1.732051           2.396986   \n",
       "32579                2.236068           2.440606   \n",
       "32580                1.414214           2.301585   \n",
       "\n",
       "       person_home_ownership_encoded  \n",
       "1                                  2  \n",
       "2                                  0  \n",
       "3                                  3  \n",
       "4                                  3  \n",
       "5                                  2  \n",
       "...                              ...  \n",
       "32576                              0  \n",
       "32577                              0  \n",
       "32578                              3  \n",
       "32579                              0  \n",
       "32580                              3  \n",
       "\n",
       "[31685 rows x 10 columns]"
      ]
     },
     "execution_count": 268,
     "metadata": {},
     "output_type": "execute_result"
    }
   ],
   "source": [
    "X"
   ]
  },
  {
   "cell_type": "code",
   "execution_count": 269,
   "id": "7aa5b5b0",
   "metadata": {},
   "outputs": [
    {
     "data": {
      "text/plain": [
       "0        1\n",
       "1        0\n",
       "2        1\n",
       "3        1\n",
       "4        1\n",
       "        ..\n",
       "32576    0\n",
       "32577    0\n",
       "32578    1\n",
       "32579    0\n",
       "32580    0\n",
       "Name: loan_status, Length: 31686, dtype: int64"
      ]
     },
     "execution_count": 269,
     "metadata": {},
     "output_type": "execute_result"
    }
   ],
   "source": [
    "y"
   ]
  },
  {
   "cell_type": "code",
   "execution_count": 270,
   "id": "745e8e65",
   "metadata": {},
   "outputs": [],
   "source": [
    "y.drop(0,inplace=True)"
   ]
  },
  {
   "cell_type": "code",
   "execution_count": 271,
   "id": "7314ea29",
   "metadata": {},
   "outputs": [
    {
     "data": {
      "text/plain": [
       "1        0\n",
       "2        1\n",
       "3        1\n",
       "4        1\n",
       "5        1\n",
       "        ..\n",
       "32576    0\n",
       "32577    0\n",
       "32578    1\n",
       "32579    0\n",
       "32580    0\n",
       "Name: loan_status, Length: 31685, dtype: int64"
      ]
     },
     "execution_count": 271,
     "metadata": {},
     "output_type": "execute_result"
    }
   ],
   "source": [
    "y"
   ]
  },
  {
   "cell_type": "code",
   "execution_count": 272,
   "id": "faf05603",
   "metadata": {},
   "outputs": [],
   "source": [
    "from sklearn.model_selection import train_test_split\n",
    "X_train, X_test, y_train, y_test = train_test_split(X, y, test_size=0.2, random_state=0)"
   ]
  },
  {
   "cell_type": "code",
   "execution_count": 275,
   "id": "6a267082",
   "metadata": {},
   "outputs": [
    {
     "data": {
      "text/html": [
       "<div>\n",
       "<style scoped>\n",
       "    .dataframe tbody tr th:only-of-type {\n",
       "        vertical-align: middle;\n",
       "    }\n",
       "\n",
       "    .dataframe tbody tr th {\n",
       "        vertical-align: top;\n",
       "    }\n",
       "\n",
       "    .dataframe thead th {\n",
       "        text-align: right;\n",
       "    }\n",
       "</style>\n",
       "<table border=\"1\" class=\"dataframe\">\n",
       "  <thead>\n",
       "    <tr style=\"text-align: right;\">\n",
       "      <th></th>\n",
       "      <th>person_income</th>\n",
       "      <th>loan_intent</th>\n",
       "      <th>loan_grade</th>\n",
       "      <th>loan_amnt</th>\n",
       "      <th>loan_percent_income</th>\n",
       "      <th>cb_person_default_on_file</th>\n",
       "      <th>cb_person_cred_hist_length</th>\n",
       "      <th>person_emp_length_sqrt</th>\n",
       "      <th>loan_int_rate_log</th>\n",
       "      <th>person_home_ownership_encoded</th>\n",
       "    </tr>\n",
       "  </thead>\n",
       "  <tbody>\n",
       "    <tr>\n",
       "      <th>7267</th>\n",
       "      <td>74415</td>\n",
       "      <td>4</td>\n",
       "      <td>3</td>\n",
       "      <td>6350</td>\n",
       "      <td>0.09</td>\n",
       "      <td>1</td>\n",
       "      <td>3</td>\n",
       "      <td>1.000000</td>\n",
       "      <td>2.558776</td>\n",
       "      <td>3</td>\n",
       "    </tr>\n",
       "    <tr>\n",
       "      <th>19783</th>\n",
       "      <td>36000</td>\n",
       "      <td>1</td>\n",
       "      <td>1</td>\n",
       "      <td>1600</td>\n",
       "      <td>0.04</td>\n",
       "      <td>0</td>\n",
       "      <td>7</td>\n",
       "      <td>2.828427</td>\n",
       "      <td>2.359910</td>\n",
       "      <td>0</td>\n",
       "    </tr>\n",
       "    <tr>\n",
       "      <th>2483</th>\n",
       "      <td>15000</td>\n",
       "      <td>1</td>\n",
       "      <td>1</td>\n",
       "      <td>3000</td>\n",
       "      <td>0.20</td>\n",
       "      <td>0</td>\n",
       "      <td>3</td>\n",
       "      <td>1.732051</td>\n",
       "      <td>2.293544</td>\n",
       "      <td>3</td>\n",
       "    </tr>\n",
       "    <tr>\n",
       "      <th>28774</th>\n",
       "      <td>92004</td>\n",
       "      <td>3</td>\n",
       "      <td>1</td>\n",
       "      <td>10000</td>\n",
       "      <td>0.11</td>\n",
       "      <td>0</td>\n",
       "      <td>9</td>\n",
       "      <td>3.464102</td>\n",
       "      <td>2.264883</td>\n",
       "      <td>0</td>\n",
       "    </tr>\n",
       "    <tr>\n",
       "      <th>22860</th>\n",
       "      <td>21000</td>\n",
       "      <td>1</td>\n",
       "      <td>1</td>\n",
       "      <td>8000</td>\n",
       "      <td>0.38</td>\n",
       "      <td>0</td>\n",
       "      <td>7</td>\n",
       "      <td>1.414214</td>\n",
       "      <td>2.460443</td>\n",
       "      <td>3</td>\n",
       "    </tr>\n",
       "  </tbody>\n",
       "</table>\n",
       "</div>"
      ],
      "text/plain": [
       "       person_income  loan_intent  loan_grade  loan_amnt  loan_percent_income  \\\n",
       "7267           74415            4           3       6350                 0.09   \n",
       "19783          36000            1           1       1600                 0.04   \n",
       "2483           15000            1           1       3000                 0.20   \n",
       "28774          92004            3           1      10000                 0.11   \n",
       "22860          21000            1           1       8000                 0.38   \n",
       "\n",
       "       cb_person_default_on_file  cb_person_cred_hist_length  \\\n",
       "7267                           1                           3   \n",
       "19783                          0                           7   \n",
       "2483                           0                           3   \n",
       "28774                          0                           9   \n",
       "22860                          0                           7   \n",
       "\n",
       "       person_emp_length_sqrt  loan_int_rate_log  \\\n",
       "7267                 1.000000           2.558776   \n",
       "19783                2.828427           2.359910   \n",
       "2483                 1.732051           2.293544   \n",
       "28774                3.464102           2.264883   \n",
       "22860                1.414214           2.460443   \n",
       "\n",
       "       person_home_ownership_encoded  \n",
       "7267                               3  \n",
       "19783                              0  \n",
       "2483                               3  \n",
       "28774                              0  \n",
       "22860                              3  "
      ]
     },
     "execution_count": 275,
     "metadata": {},
     "output_type": "execute_result"
    }
   ],
   "source": [
    "X_train.head()"
   ]
  },
  {
   "cell_type": "code",
   "execution_count": 278,
   "id": "856c9c95",
   "metadata": {},
   "outputs": [
    {
     "data": {
      "text/plain": [
       "set[7267     3\n",
       "19783    1\n",
       "2483     1\n",
       "28774    1\n",
       "22860    1\n",
       "        ..\n",
       "13529    0\n",
       "20251    4\n",
       "10184    2\n",
       "11173    0\n",
       "2853     0\n",
       "Name: loan_grade, Length: 25348, dtype: int32]"
      ]
     },
     "execution_count": 278,
     "metadata": {},
     "output_type": "execute_result"
    }
   ],
   "source": [
    "set[X_train.iloc[:,2]]"
   ]
  },
  {
   "cell_type": "code",
   "execution_count": 279,
   "id": "eec4d214",
   "metadata": {},
   "outputs": [],
   "source": [
    "from sklearn.preprocessing import StandardScaler\n",
    "ss = StandardScaler()\n",
    "X_train=ss.fit_transform(X_train)\n",
    "X_test=ss.fit_transform(X_test)"
   ]
  },
  {
   "cell_type": "code",
   "execution_count": 338,
   "id": "0bc234c9",
   "metadata": {},
   "outputs": [
    {
     "data": {
      "text/plain": [
       "DecisionTreeClassifier(criterion='entropy', max_depth=9, random_state=42)"
      ]
     },
     "execution_count": 338,
     "metadata": {},
     "output_type": "execute_result"
    }
   ],
   "source": [
    "from sklearn.tree import DecisionTreeClassifier\n",
    "DTClassifier=DecisionTreeClassifier(criterion='entropy',random_state=42, max_depth=9)\n",
    "DTClassifier.fit(X_train,y_train)"
   ]
  },
  {
   "cell_type": "code",
   "execution_count": 339,
   "id": "ed1718d0",
   "metadata": {},
   "outputs": [
    {
     "data": {
      "text/plain": [
       "0.9325785071800536"
      ]
     },
     "execution_count": 339,
     "metadata": {},
     "output_type": "execute_result"
    }
   ],
   "source": [
    "DTClassifier.score(X_train,y_train)"
   ]
  },
  {
   "cell_type": "code",
   "execution_count": 340,
   "id": "bf62f3ea",
   "metadata": {},
   "outputs": [
    {
     "data": {
      "text/plain": [
       "array([1, 0, 0, ..., 1, 0, 0], dtype=int64)"
      ]
     },
     "execution_count": 340,
     "metadata": {},
     "output_type": "execute_result"
    }
   ],
   "source": [
    "y_pred=DTClassifier.predict(X_test)\n",
    "y_pred"
   ]
  },
  {
   "cell_type": "code",
   "execution_count": 341,
   "id": "531e241d",
   "metadata": {},
   "outputs": [
    {
     "name": "stdout",
     "output_type": "stream",
     "text": [
      "Accuracy: 0.8751775287991163\n",
      "Precision: 0.724669603524229\n",
      "Recall: 0.7034925160370634\n",
      "F1-score: 0.7139240506329113\n"
     ]
    }
   ],
   "source": [
    "from sklearn.metrics import precision_score, recall_score, f1_score, confusion_matrix, accuracy_score\n",
    "\n",
    "# assume y_true and y_pred are the true and predicted labels, respectively\n",
    "precision = precision_score(y_pred, y_test)\n",
    "recall = recall_score(y_pred, y_test)\n",
    "f1 = f1_score(y_pred, y_test)\n",
    "cm = confusion_matrix(y_pred, y_test)\n",
    "accuracy = accuracy_score(y_pred, y_test)\n",
    "print('Accuracy:', accuracy)\n",
    "print(\"Precision:\", precision)\n",
    "print(\"Recall:\", recall)\n",
    "print(\"F1-score:\", f1)"
   ]
  },
  {
   "cell_type": "code",
   "execution_count": 335,
   "id": "06c57581",
   "metadata": {},
   "outputs": [
    {
     "name": "stdout",
     "output_type": "stream",
     "text": [
      "Accuracy: 0.7252643206564621\n",
      "Precision: 0.8604992657856094\n",
      "Recall: 0.4304076386338597\n",
      "F1-score: 0.5738066095471236\n"
     ]
    }
   ],
   "source": [
    "from sklearn.metrics import classification_report\n",
    "from imblearn.combine import SMOTEENN\n",
    "smote_enn = SMOTEENN(random_state=0)\n",
    "X_train_resampled, y_train_resampled = smote_enn.fit_resample(X_train, y_train)\n",
    "DTClassifier=DecisionTreeClassifier(criterion='entropy',random_state=0, max_depth=5 )\n",
    "DTClassifier.fit(X_train_resampled,y_train_resampled) \n",
    "y_pred=DTClassifier.predict(X_test)\n",
    "precision = precision_score(y_pred, y_test)\n",
    "recall = recall_score(y_pred, y_test)\n",
    "f1 = f1_score(y_pred, y_test)\n",
    "cm = confusion_matrix(y_pred, y_test)\n",
    "accuracy = accuracy_score(y_pred, y_test)\n",
    "print('Accuracy:', accuracy)\n",
    "print(\"Precision:\", precision)\n",
    "print(\"Recall:\", recall)\n",
    "print(\"F1-score:\", f1)"
   ]
  },
  {
   "cell_type": "code",
   "execution_count": 336,
   "id": "a6595df7",
   "metadata": {},
   "outputs": [
    {
     "data": {
      "text/plain": [
       "0.8842058842058842"
      ]
     },
     "execution_count": 336,
     "metadata": {},
     "output_type": "execute_result"
    }
   ],
   "source": [
    "DTClassifier.score(X_train_resampled,y_train_resampled)"
   ]
  },
  {
   "cell_type": "code",
   "execution_count": null,
   "id": "83966297",
   "metadata": {},
   "outputs": [],
   "source": []
  },
  {
   "cell_type": "code",
   "execution_count": 360,
   "id": "b347e372",
   "metadata": {},
   "outputs": [
    {
     "name": "stdout",
     "output_type": "stream",
     "text": [
      "Accuracy: 0.8720214612592709\n",
      "Precision: 0.7026431718061674\n",
      "Recall: 0.7021276595744681\n",
      "F1-score: 0.7023853211009174\n"
     ]
    }
   ],
   "source": [
    "from sklearn.ensemble import RandomForestClassifier\n",
    "clf = RandomForestClassifier(n_estimators=100, random_state=0, max_depth=8)\n",
    "clf.fit(X_train, y_train)\n",
    "\n",
    "# Make predictions on the test set\n",
    "y_pred = clf.predict(X_test)\n",
    "\n",
    "# Print classification report\n",
    "precision = precision_score(y_pred, y_test)\n",
    "recall = recall_score(y_pred, y_test)\n",
    "f1 = f1_score(y_pred, y_test)\n",
    "cm = confusion_matrix(y_pred, y_test)\n",
    "accuracy = accuracy_score(y_pred, y_test)\n",
    "print('Accuracy:', accuracy)\n",
    "print(\"Precision:\", precision)\n",
    "print(\"Recall:\", recall)\n",
    "print(\"F1-score:\", f1)"
   ]
  },
  {
   "cell_type": "code",
   "execution_count": 361,
   "id": "11cb0775",
   "metadata": {},
   "outputs": [
    {
     "data": {
      "text/plain": [
       "0.9289095786649835"
      ]
     },
     "execution_count": 361,
     "metadata": {},
     "output_type": "execute_result"
    }
   ],
   "source": [
    "clf.score(X_train,y_train)"
   ]
  },
  {
   "cell_type": "code",
   "execution_count": 362,
   "id": "77f26ab7",
   "metadata": {},
   "outputs": [
    {
     "name": "stdout",
     "output_type": "stream",
     "text": [
      "Accuracy: 0.6967019094208616\n",
      "Precision: 0.8869309838472834\n",
      "Recall: 0.40591397849462363\n",
      "F1-score: 0.5569386814200091\n"
     ]
    }
   ],
   "source": [
    "smote_enn = SMOTEENN(random_state=0)\n",
    "X_train_resampled, y_train_resampled = smote_enn.fit_resample(X_train, y_train)\n",
    "clf = RandomForestClassifier(n_estimators=100, random_state=0, max_depth=8)\n",
    "clf.fit(X_train_resampled, y_train_resampled)\n",
    "\n",
    "# Make predictions on the test set\n",
    "y_pred = clf.predict(X_test)\n",
    "\n",
    "# Print classification report\n",
    "precision = precision_score(y_pred, y_test)\n",
    "recall = recall_score(y_pred, y_test)\n",
    "f1 = f1_score(y_pred, y_test)\n",
    "cm = confusion_matrix(y_pred, y_test)\n",
    "accuracy = accuracy_score(y_pred, y_test)\n",
    "print('Accuracy:', accuracy)\n",
    "print(\"Precision:\", precision)\n",
    "print(\"Recall:\", recall)\n",
    "print(\"F1-score:\", f1)"
   ]
  },
  {
   "cell_type": "code",
   "execution_count": 363,
   "id": "895a522d",
   "metadata": {},
   "outputs": [
    {
     "data": {
      "text/plain": [
       "0.912051912051912"
      ]
     },
     "execution_count": 363,
     "metadata": {},
     "output_type": "execute_result"
    }
   ],
   "source": [
    "clf.score(X_train_resampled,y_train_resampled)"
   ]
  },
  {
   "cell_type": "code",
   "execution_count": null,
   "id": "13fe3793",
   "metadata": {},
   "outputs": [],
   "source": []
  },
  {
   "cell_type": "code",
   "execution_count": 364,
   "id": "1f8c1d4b",
   "metadata": {},
   "outputs": [
    {
     "data": {
      "text/plain": [
       "GaussianNB()"
      ]
     },
     "execution_count": 364,
     "metadata": {},
     "output_type": "execute_result"
    }
   ],
   "source": [
    "from sklearn.naive_bayes import GaussianNB\n",
    "NBClassifier = GaussianNB()\n",
    "NBClassifier.fit(X_train,y_train)"
   ]
  },
  {
   "cell_type": "code",
   "execution_count": 365,
   "id": "10733c21",
   "metadata": {},
   "outputs": [
    {
     "data": {
      "text/plain": [
       "array([1, 0, 0, ..., 1, 0, 0], dtype=int64)"
      ]
     },
     "execution_count": 365,
     "metadata": {},
     "output_type": "execute_result"
    }
   ],
   "source": [
    "y_pred=NBClassifier.predict(X_test)\n",
    "y_pred"
   ]
  },
  {
   "cell_type": "code",
   "execution_count": 366,
   "id": "95ffed4e",
   "metadata": {},
   "outputs": [
    {
     "name": "stdout",
     "output_type": "stream",
     "text": [
      "Accuracy: 0.8029035821366577\n",
      "Precision: 0.6483113069016153\n",
      "Recall: 0.6483113069016153\n",
      "F1-score: 0.5857379767827529\n"
     ]
    }
   ],
   "source": [
    "precision = precision_score(y_pred, y_test)\n",
    "recall = recall_score(y_test, y_pred)\n",
    "f1 = f1_score(y_test, y_pred)\n",
    "cm = confusion_matrix(y_pred, y_test)\n",
    "accuracy = accuracy_score(y_pred, y_test)\n",
    "print('Accuracy:', accuracy)\n",
    "print(\"Precision:\", precision)\n",
    "print(\"Recall:\", recall)\n",
    "print(\"F1-score:\", f1)"
   ]
  },
  {
   "cell_type": "code",
   "execution_count": 367,
   "id": "fcf46c56",
   "metadata": {},
   "outputs": [
    {
     "data": {
      "text/plain": [
       "0.7963941928357267"
      ]
     },
     "execution_count": 367,
     "metadata": {},
     "output_type": "execute_result"
    }
   ],
   "source": [
    "NBClassifier.score(X_train,y_train)"
   ]
  },
  {
   "cell_type": "code",
   "execution_count": 368,
   "id": "397686bf",
   "metadata": {},
   "outputs": [
    {
     "name": "stdout",
     "output_type": "stream",
     "text": [
      "Accuracy: 0.7217926463626322\n",
      "Precision: 0.7951541850220264\n",
      "Recall: 0.4218932606155045\n",
      "F1-score: 0.5512853143293459\n"
     ]
    }
   ],
   "source": [
    "smote_enn = SMOTEENN(random_state=0)\n",
    "X_train_resampled, y_train_resampled = smote_enn.fit_resample(X_train, y_train)\n",
    "NBClassifier = GaussianNB()\n",
    "NBClassifier.fit(X_train_resampled,y_train_resampled)\n",
    "\n",
    "# Make predictions on the test set\n",
    "y_pred=NBClassifier.predict(X_test)\n",
    "\n",
    "# Print classification report\n",
    "precision = precision_score(y_pred, y_test)\n",
    "recall = recall_score(y_pred, y_test)\n",
    "f1 = f1_score(y_pred, y_test)\n",
    "cm = confusion_matrix(y_pred, y_test)\n",
    "accuracy = accuracy_score(y_pred, y_test)\n",
    "print('Accuracy:', accuracy)\n",
    "print(\"Precision:\", precision)\n",
    "print(\"Recall:\", recall)\n",
    "print(\"F1-score:\", f1)"
   ]
  },
  {
   "cell_type": "code",
   "execution_count": 369,
   "id": "76b38736",
   "metadata": {},
   "outputs": [
    {
     "data": {
      "text/plain": [
       "0.8172053172053172"
      ]
     },
     "execution_count": 369,
     "metadata": {},
     "output_type": "execute_result"
    }
   ],
   "source": [
    "NBClassifier.score(X_train_resampled,y_train_resampled)"
   ]
  },
  {
   "cell_type": "code",
   "execution_count": null,
   "id": "0f33c6fc",
   "metadata": {},
   "outputs": [],
   "source": []
  },
  {
   "cell_type": "code",
   "execution_count": null,
   "id": "8851fa60",
   "metadata": {},
   "outputs": [],
   "source": []
  },
  {
   "cell_type": "code",
   "execution_count": null,
   "id": "47368c04",
   "metadata": {},
   "outputs": [],
   "source": []
  },
  {
   "cell_type": "code",
   "execution_count": null,
   "id": "1843e725",
   "metadata": {},
   "outputs": [],
   "source": []
  },
  {
   "cell_type": "code",
   "execution_count": null,
   "id": "8795d54a",
   "metadata": {},
   "outputs": [],
   "source": []
  },
  {
   "cell_type": "code",
   "execution_count": null,
   "id": "be6de069",
   "metadata": {},
   "outputs": [],
   "source": []
  },
  {
   "cell_type": "code",
   "execution_count": null,
   "id": "72c6d6f0",
   "metadata": {},
   "outputs": [],
   "source": []
  },
  {
   "cell_type": "code",
   "execution_count": null,
   "id": "3305f664",
   "metadata": {},
   "outputs": [],
   "source": []
  },
  {
   "cell_type": "code",
   "execution_count": null,
   "id": "559c08cc",
   "metadata": {},
   "outputs": [],
   "source": []
  },
  {
   "cell_type": "code",
   "execution_count": null,
   "id": "7d9d15cd",
   "metadata": {},
   "outputs": [],
   "source": []
  },
  {
   "cell_type": "code",
   "execution_count": null,
   "id": "cfd22085",
   "metadata": {},
   "outputs": [],
   "source": []
  }
 ],
 "metadata": {
  "kernelspec": {
   "display_name": "Python 3 (ipykernel)",
   "language": "python",
   "name": "python3"
  },
  "language_info": {
   "codemirror_mode": {
    "name": "ipython",
    "version": 3
   },
   "file_extension": ".py",
   "mimetype": "text/x-python",
   "name": "python",
   "nbconvert_exporter": "python",
   "pygments_lexer": "ipython3",
   "version": "3.9.12"
  }
 },
 "nbformat": 4,
 "nbformat_minor": 5
}
